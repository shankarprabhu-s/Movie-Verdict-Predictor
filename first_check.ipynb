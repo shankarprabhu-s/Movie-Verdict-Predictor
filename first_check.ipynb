{
 "cells": [
  {
   "cell_type": "code",
   "execution_count": 23,
   "metadata": {},
   "outputs": [
    {
     "name": "stdout",
     "output_type": "stream",
     "text": [
      "                           movie   language               director  Action  \\\n",
      "0                          Jawan      Hindi                  Atlee       1   \n",
      "1                        Pathaan      Hindi        Siddharth Anand       1   \n",
      "2                         Animal      Hindi    Sandeep Reddy Vanga       1   \n",
      "3                        Gadar 2      Hindi            Anil Sharma       1   \n",
      "4    Salaar: Cease Fire - Part 1     Telugu         Prashanth Neel       1   \n",
      "..                           ...        ...                    ...     ...   \n",
      "133                    Runway 34      Hindi             Ajay Devgn       0   \n",
      "134    Vendhu Thanindhathu Kaadu      Tamil  Gautham Vasudev Menon       1   \n",
      "135                 Malikappuram  Malayalam    Vishnu Sasi Shankar       1   \n",
      "136   Rocketry: The Nambi Effect      Tamil               Madhavan       0   \n",
      "137               Jana Gana Mana  Malayalam       Dijo Jose Antony       0   \n",
      "\n",
      "     Drama  Musical  Adventure  Thriller  Crime  Comedy  ...  Animation  \\\n",
      "0        1        1          0         0      0       0  ...          0   \n",
      "1        0        0          1         1      0       0  ...          0   \n",
      "2        1        0          0         0      1       0  ...          0   \n",
      "3        1        0          1         0      0       0  ...          0   \n",
      "4        1        0          0         0      1       0  ...          0   \n",
      "..     ...      ...        ...       ...    ...     ...  ...        ...   \n",
      "133      0        1          0         0      0       0  ...          0   \n",
      "134      0        1          1         0      0       0  ...          0   \n",
      "135      1        1          0         0      0       0  ...          0   \n",
      "136      0        1          0         0      0       0  ...          0   \n",
      "137      0        1          1         0      0       0  ...          0   \n",
      "\n",
      "     Sci-Fi                 cast_1                cast_2               cast_3  \\\n",
      "0         0         Shah Rukh Khan            Nayanthara     Vijay Sethupathi   \n",
      "1         0         Shah Rukh Khan      Deepika Padukone         John Abraham   \n",
      "2         0          Ranbir Kapoor           Anil Kapoor           Bobby Deol   \n",
      "3         0             Sunny Deol         Ameesha Patel       Utkarsh Sharma   \n",
      "4         0                Prabhas  Prithviraj Sukumaran        Shruti Haasan   \n",
      "..      ...                    ...                   ...                  ...   \n",
      "133       0             Ajay Devgn      Amitabh Bachchan    Rakul Preet Singh   \n",
      "134       0  Silambarasan Rajendar         Siddhi Idnani  Radhika Sarathkumar   \n",
      "135       0          Unni Mukundan           Saiju Kurup          Deva Nandha   \n",
      "136       0               Madhavan                Simran         Rajit Kapoor   \n",
      "137       0   Prithviraj Sukumaran    Suraj Venjaramoodu       Mamta Mohandas   \n",
      "\n",
      "                    cast_4  budget  run-time  first_day_collection  verdict  \n",
      "0         Deepika Padukone     285       169                 129.6      Hit  \n",
      "1           Dimple Kapadia     250       146                 104.8      Hit  \n",
      "2        Rashmika Mandanna     140       204                 115.9      Hit  \n",
      "3    Simratt Kaur Randhawa      80       170                  53.7      Hit  \n",
      "4           Jagapathi Babu     250       175                 165.3      Hit  \n",
      "..                     ...     ...       ...                   ...      ...  \n",
      "133             Ajey Nagar     110       145                  33.5     Flop  \n",
      "134              Appukutty      30       177                  38.1      Hit  \n",
      "135               Sreepath      10       121                  36.1      Hit  \n",
      "136       Ravi Raghavendra      50       157                  35.7     Flop  \n",
      "137              Mammootty      15       162                  27.1      Hit  \n",
      "\n",
      "[138 rows x 28 columns]\n"
     ]
    }
   ],
   "source": [
    "import pandas as pd\n",
    "import numpy as np\n",
    "\n",
    "df=pd.read_excel('movie_dataSet_2023.xlsx')\n",
    "print(df)"
   ]
  },
  {
   "cell_type": "code",
   "execution_count": 24,
   "metadata": {},
   "outputs": [],
   "source": [
    "x=df.iloc[:,1:27].values\n",
    "y=df.iloc[:,-1].values\n",
    "\n"
   ]
  },
  {
   "cell_type": "code",
   "execution_count": 25,
   "metadata": {},
   "outputs": [
    {
     "name": "stdout",
     "output_type": "stream",
     "text": [
      "[['Hindi' 'Atlee' 1 ... 285 169 129.6]\n",
      " ['Hindi' 'Siddharth Anand' 1 ... 250 146 104.8]\n",
      " ['Hindi' 'Sandeep Reddy Vanga' 1 ... 140 204 115.9]\n",
      " ...\n",
      " ['Malayalam' 'Vishnu Sasi Shankar' 1 ... 10 121 36.1]\n",
      " ['Tamil' 'Madhavan' 0 ... 50 157 35.7]\n",
      " ['Malayalam' 'Dijo Jose Antony' 0 ... 15 162 27.1]]\n"
     ]
    }
   ],
   "source": [
    "\n",
    "print(x)\n",
    "\n"
   ]
  },
  {
   "cell_type": "code",
   "execution_count": 26,
   "metadata": {},
   "outputs": [
    {
     "name": "stdout",
     "output_type": "stream",
     "text": [
      "['Hit' 'Hit' 'Hit' 'Hit' 'Hit' 'Hit' 'Hit' 'Hit' 'Flop' 'Flop' 'Hit' 'Hit'\n",
      " 'Hit' 'Hit' 'Hit' 'Hit' 'Hit' 'Hit' 'Flop' 'Hit' 'Hit' 'Hit' 'Hit' 'Hit'\n",
      " 'Hit' 'Hit' 'Hit' 'Hit' 'Flop' 'Hit' 'Flop' 'Hit' 'Hit' 'Flop' 'Hit'\n",
      " 'Hit' 'Hit' 'Hit' 'Hit' 'Hit' 'Hit' 'Hit' 'Flop' 'Hit' 'Flop' 'Hit' 'Hit'\n",
      " 'Hit' 'Hit' 'Hit' 'Flop' 'Hit' 'Flop' 'Hit' 'Hit' 'Flop' 'Hit' 'Hit'\n",
      " 'Flop' 'Hit' 'Flop' 'Hit' 'Hit' 'Flop' 'Flop' 'Flop' 'Hit' 'Hit' 'Flop'\n",
      " 'Flop' 'Flop' 'Hit' 'Flop' 'Hit' 'Hit' 'Flop' 'Flop' 'Hit' 'Hit' 'Flop'\n",
      " 'Hit' 'Flop' 'Hit' 'Hit' 'Hit' 'Hit' 'Hit' 'Hit' 'Flop' 'Hit' 'Hit' 'Hit'\n",
      " 'Hit' 'Hit' 'Flop' 'Hit' 'Flop' 'Flop' 'Flop' 'Flop' 'Flop' 'Flop' 'Flop'\n",
      " 'Hit' 'Hit' 'Hit' 'Flop' 'Flop' 'Flop' 'Flop' 'Hit' 'Hit' 'Hit' 'Hit'\n",
      " 'Flop' 'Hit' 'Flop' 'Flop' 'Flop' 'Hit' 'Flop' 'Hit' 'Flop' 'Hit' 'Flop'\n",
      " 'Flop' 'Flop' 'Hit' 'Hit' 'Flop' 'Hit' 'Hit' 'Hit' 'Flop' 'Hit' 'Hit'\n",
      " 'Flop' 'Hit']\n"
     ]
    }
   ],
   "source": [
    "print(y)"
   ]
  },
  {
   "cell_type": "code",
   "execution_count": 27,
   "metadata": {},
   "outputs": [],
   "source": [
    "# from sklearn.preprocessing import OneHotEncoder, LabelEncoder\n",
    "# from sklearn.compose import ColumnTransformer\n",
    "\n",
    "# # Assuming these are the column indices you want to encode\n",
    "# columns_to_encode = [0, 1]\n",
    "\n",
    "# # Preprocess non-numeric columns with LabelEncoder\n",
    "# label_encoders = {}\n",
    "# for col in columns_to_encode:\n",
    "#     label_encoders[col] = LabelEncoder()\n",
    "#     x[:, col] = label_encoders[col].fit_transform(x[:, col])\n",
    "\n",
    "# # Apply ColumnTransformer with OneHotEncoder\n",
    "# ct = ColumnTransformer(transformers=[('encoder', OneHotEncoder(), columns_to_encode)], remainder='passthrough')\n",
    "\n",
    "# x = ct.fit_transform(x)\n"
   ]
  },
  {
   "cell_type": "code",
   "execution_count": 28,
   "metadata": {},
   "outputs": [],
   "source": [
    "from sklearn.preprocessing import LabelEncoder\n",
    "\n",
    "le = LabelEncoder()\n",
    "\n",
    "x[:,0]=le.fit_transform(x[:,0])\n",
    "x[:,1]=le.fit_transform(x[:,1])\n",
    "x[:,19]=le.fit_transform(x[:,19])\n",
    "x[:,20]=le.fit_transform(x[:,20])\n",
    "x[:,21]=le.fit_transform(x[:,21])\n",
    "x[:,22]=le.fit_transform(x[:,22])\n"
   ]
  },
  {
   "cell_type": "code",
   "execution_count": 29,
   "metadata": {},
   "outputs": [
    {
     "name": "stdout",
     "output_type": "stream",
     "text": [
      "[[1 18 1 ... 285 169 129.6]\n",
      " [1 108 1 ... 250 146 104.8]\n",
      " [1 102 1 ... 140 204 115.9]\n",
      " ...\n",
      " [3 127 1 ... 10 121 36.1]\n",
      " [6 60 0 ... 50 157 35.7]\n",
      " [3 28 0 ... 15 162 27.1]]\n"
     ]
    }
   ],
   "source": [
    "print(x)"
   ]
  },
  {
   "cell_type": "code",
   "execution_count": 30,
   "metadata": {},
   "outputs": [],
   "source": [
    "from sklearn.model_selection import train_test_split\n",
    "x_train,x_test,y_train,y_test=train_test_split(x,y,test_size=0.3,random_state=10)"
   ]
  },
  {
   "cell_type": "code",
   "execution_count": 31,
   "metadata": {},
   "outputs": [],
   "source": [
    "from cmath import inf\n",
    "from sklearn.tree import DecisionTreeClassifier\n",
    "from sklearn.naive_bayes import GaussianNB\n",
    "from sklearn.ensemble import RandomForestClassifier\n",
    "from sklearn.neighbors import KNeighborsClassifier\n",
    "\n",
    "from sklearn.linear_model import LinearRegression\n",
    "\n",
    "#dt = DecisionTreeClassifier(criterion='gini',random_state=0)\n",
    "dt=KNeighborsClassifier(n_neighbors=5,metric='minkowski',p=1)\n",
    "\n",
    "\n",
    "\n",
    "\n",
    "#K-NN metics\n",
    "#{'haversine', 'correlation', 'manhattan', 'braycurtis', 'chebyshev', 'precomputed', 'rogerstanimoto', 'nan_euclidean', 'sqeuclidean', 'cityblock', 'l2', 'infinity', 'dice', 'p', 'euclidean', 'seuclidean', 'sokalsneath', 'jaccard', 'minkowski', 'mahalanobis', 'yule', 'sokalmichener', 'pyfunc', 'cosine', 'hamming', 'l1', 'russellrao', 'canberra'}\n"
   ]
  },
  {
   "cell_type": "code",
   "execution_count": 32,
   "metadata": {},
   "outputs": [],
   "source": [
    "dt.fit(x_train,y_train)\n",
    "y_pred=dt.predict(x_test)\n"
   ]
  },
  {
   "cell_type": "code",
   "execution_count": 33,
   "metadata": {},
   "outputs": [
    {
     "name": "stdout",
     "output_type": "stream",
     "text": [
      "0.7380952380952381\n",
      "[[ 7  6]\n",
      " [ 5 24]]\n",
      "              precision    recall  f1-score   support\n",
      "\n",
      "        Flop       0.58      0.54      0.56        13\n",
      "         Hit       0.80      0.83      0.81        29\n",
      "\n",
      "    accuracy                           0.74        42\n",
      "   macro avg       0.69      0.68      0.69        42\n",
      "weighted avg       0.73      0.74      0.74        42\n",
      "\n",
      "0.7329365079365081\n"
     ]
    }
   ],
   "source": [
    "from sklearn.metrics import accuracy_score,classification_report,confusion_matrix,precision_score\n",
    "print(accuracy_score(y_test,y_pred))\n",
    "print(confusion_matrix(y_test,y_pred))\n",
    "print(classification_report(y_test,y_pred))\n",
    "print(precision_score(y_test,y_pred, average='weighted'))"
   ]
  },
  {
   "cell_type": "code",
   "execution_count": 44,
   "metadata": {},
   "outputs": [
    {
     "name": "stdout",
     "output_type": "stream",
     "text": [
      "0.6830238726790451\n"
     ]
    }
   ],
   "source": [
    "from sklearn.metrics import auc,roc_curve\n",
    "from sklearn.preprocessing import LabelEncoder\n",
    "\n",
    "# Convert string labels to numeric labels using LabelEncoder\n",
    "label_encoder = LabelEncoder()\n",
    "y_test_encoded = label_encoder.fit_transform(y_test)\n",
    "y_pred_encoded = label_encoder.transform(y_pred)\n",
    "\n",
    "# Compute ROC curve\n",
    "fpr, tpr, thresholds = roc_curve(y_test_encoded, y_pred_encoded)\n",
    "\n",
    "auc_roc=auc(fpr,tpr)\n",
    "print(auc_roc)\n",
    "\n"
   ]
  },
  {
   "cell_type": "code",
   "execution_count": 43,
   "metadata": {},
   "outputs": [
    {
     "data": {
      "image/png": "[encoded data removed]",
      "text/plain": [
       "<Figure size 800x600 with 1 Axes>"
      ]
     },
     "metadata": {},
     "output_type": "display_data"
    }
   ],
   "source": [
    "import matplotlib.pyplot as plt\n",
    "from sklearn.metrics import roc_auc_score, roc_curve\n",
    "\n",
    "# Compute ROC curve\n",
    "fpr, tpr, thresholds = roc_curve(y_test_encoded, y_pred_encoded)\n",
    "\n",
    "# Compute AUC score\n",
    "auc_score = roc_auc_score(y_test_encoded, y_pred_encoded)\n",
    "\n",
    "# Plot ROC curve\n",
    "plt.figure(figsize=(8, 6))\n",
    "plt.plot(fpr, tpr, color='blue', lw=2, label='ROC curve (AUC = %0.2f)' % auc_score)\n",
    "plt.plot([0, 1], [0, 1], color='red', lw=2, linestyle='--')\n",
    "plt.xlim([0.0, 1.0])\n",
    "plt.ylim([0.0, 1.05])\n",
    "plt.xlabel('False Positive Rate')\n",
    "plt.ylabel('True Positive Rate')\n",
    "plt.title('Receiver Operating Characteristic (ROC) Curve')\n",
    "plt.legend(loc='lower right')\n",
    "plt.show()\n"
   ]
  }
 ],
 "metadata": {
  "kernelspec": {
   "display_name": "Python 3",
   "language": "python",
   "name": "python3"
  },
  "language_info": {
   "codemirror_mode": {
    "name": "ipython",
    "version": 3
   },
   "file_extension": ".py",
   "mimetype": "text/x-python",
   "name": "python",
   "nbconvert_exporter": "python",
   "pygments_lexer": "ipython3",
   "version": "3.12.0"
  }
 },
 "nbformat": 4,
 "nbformat_minor": 2
}
