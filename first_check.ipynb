{
 "cells": [
  {
   "cell_type": "code",
   "execution_count": 180,
   "metadata": {},
   "outputs": [
    {
     "name": "stdout",
     "output_type": "stream",
     "text": [
      "                           movie   language               director  Action  \\\n",
      "0                          Jawan      Hindi                  Atlee       1   \n",
      "1                        Pathaan      Hindi        Siddharth Anand       1   \n",
      "2                         Animal      Hindi    Sandeep Reddy Vanga       1   \n",
      "3                        Gadar 2      Hindi            Anil Sharma       1   \n",
      "4    Salaar: Cease Fire - Part 1     Telugu         Prashanth Neel       1   \n",
      "..                           ...        ...                    ...     ...   \n",
      "133                    Runway 34      Hindi             Ajay Devgn       0   \n",
      "134    Vendhu Thanindhathu Kaadu      Tamil  Gautham Vasudev Menon       1   \n",
      "135                 Malikappuram  Malayalam    Vishnu Sasi Shankar       1   \n",
      "136   Rocketry: The Nambi Effect      Tamil               Madhavan       0   \n",
      "137               Jana Gana Mana  Malayalam       Dijo Jose Antony       0   \n",
      "\n",
      "     Drama  Musical  Adventure  Thriller  Crime  Comedy  ...  Animation  \\\n",
      "0        1        1          0         0      0       0  ...          0   \n",
      "1        0        0          1         1      0       0  ...          0   \n",
      "2        1        0          0         0      1       0  ...          0   \n",
      "3        1        0          1         0      0       0  ...          0   \n",
      "4        1        0          0         0      1       0  ...          0   \n",
      "..     ...      ...        ...       ...    ...     ...  ...        ...   \n",
      "133      0        1          0         0      0       0  ...          0   \n",
      "134      0        1          1         0      0       0  ...          0   \n",
      "135      1        1          0         0      0       0  ...          0   \n",
      "136      0        1          0         0      0       0  ...          0   \n",
      "137      0        1          1         0      0       0  ...          0   \n",
      "\n",
      "     Sci-Fi                 cast_1                cast_2               cast_3  \\\n",
      "0         0         Shah Rukh Khan            Nayanthara     Vijay Sethupathi   \n",
      "1         0         Shah Rukh Khan      Deepika Padukone         John Abraham   \n",
      "2         0          Ranbir Kapoor           Anil Kapoor           Bobby Deol   \n",
      "3         0             Sunny Deol         Ameesha Patel       Utkarsh Sharma   \n",
      "4         0                Prabhas  Prithviraj Sukumaran        Shruti Haasan   \n",
      "..      ...                    ...                   ...                  ...   \n",
      "133       0             Ajay Devgn      Amitabh Bachchan    Rakul Preet Singh   \n",
      "134       0  Silambarasan Rajendar         Siddhi Idnani  Radhika Sarathkumar   \n",
      "135       0          Unni Mukundan           Saiju Kurup          Deva Nandha   \n",
      "136       0               Madhavan                Simran         Rajit Kapoor   \n",
      "137       0   Prithviraj Sukumaran    Suraj Venjaramoodu       Mamta Mohandas   \n",
      "\n",
      "                    cast_4  budget  run-time  first_day_collection  verdict  \n",
      "0         Deepika Padukone     285       169                 129.6      Hit  \n",
      "1           Dimple Kapadia     250       146                 104.8      Hit  \n",
      "2        Rashmika Mandanna     140       204                 115.9      Hit  \n",
      "3    Simratt Kaur Randhawa      80       170                  53.7      Hit  \n",
      "4           Jagapathi Babu     250       175                 165.3      Hit  \n",
      "..                     ...     ...       ...                   ...      ...  \n",
      "133             Ajey Nagar     110       145                  33.5     Flop  \n",
      "134              Appukutty      30       177                  38.1      Hit  \n",
      "135               Sreepath      10       121                  36.1      Hit  \n",
      "136       Ravi Raghavendra      50       157                  35.7     Flop  \n",
      "137              Mammootty      15       162                  27.1      Hit  \n",
      "\n",
      "[138 rows x 28 columns]\n"
     ]
    }
   ],
   "source": [
    "import pandas as pd\n",
    "import numpy as np\n",
    "\n",
    "df=pd.read_excel('movie_dataSet_2023.xlsx')\n",
    "print(df)"
   ]
  },
  {
   "cell_type": "code",
   "execution_count": 181,
   "metadata": {},
   "outputs": [],
   "source": [
    "x=df.iloc[:,1:27].values\n",
    "y=df.iloc[:,-1].values\n",
    "\n"
   ]
  },
  {
   "cell_type": "code",
   "execution_count": 182,
   "metadata": {},
   "outputs": [
    {
     "name": "stdout",
     "output_type": "stream",
     "text": [
      "[['Hindi' 'Atlee' 1 ... 285 169 129.6]\n",
      " ['Hindi' 'Siddharth Anand' 1 ... 250 146 104.8]\n",
      " ['Hindi' 'Sandeep Reddy Vanga' 1 ... 140 204 115.9]\n",
      " ...\n",
      " ['Malayalam' 'Vishnu Sasi Shankar' 1 ... 10 121 36.1]\n",
      " ['Tamil' 'Madhavan' 0 ... 50 157 35.7]\n",
      " ['Malayalam' 'Dijo Jose Antony' 0 ... 15 162 27.1]]\n",
      "['Hit' 'Hit' 'Hit' 'Hit' 'Hit' 'Hit' 'Hit' 'Hit' 'Flop' 'Flop' 'Hit' 'Hit'\n",
      " 'Hit' 'Hit' 'Hit' 'Hit' 'Hit' 'Hit' 'Flop' 'Hit' 'Hit' 'Hit' 'Hit' 'Hit'\n",
      " 'Hit' 'Hit' 'Hit' 'Hit' 'Flop' 'Hit' 'Flop' 'Hit' 'Hit' 'Flop' 'Hit'\n",
      " 'Hit' 'Hit' 'Hit' 'Hit' 'Hit' 'Hit' 'Hit' 'Flop' 'Hit' 'Flop' 'Hit' 'Hit'\n",
      " 'Hit' 'Hit' 'Hit' 'Flop' 'Hit' 'Flop' 'Hit' 'Hit' 'Hit' 'Hit' 'Hit'\n",
      " 'Flop' 'Hit' 'Flop' 'Hit' 'Hit' 'Flop' 'Flop' 'Flop' 'Hit' 'Hit' 'Flop'\n",
      " 'Flop' 'Flop' 'Hit' 'Hit' 'Hit' 'Hit' 'Flop' 'Flop' 'Hit' 'Hit' 'Flop'\n",
      " 'Hit' 'Flop' 'Hit' 'Hit' 'Hit' 'Hit' 'Hit' 'Hit' 'Flop' 'Hit' 'Hit' 'Hit'\n",
      " 'Hit' 'Hit' 'Flop' 'Hit' 'Flop' 'Flop' 'Flop' 'Flop' 'Flop' 'Flop' 'Flop'\n",
      " 'Hit' 'Hit' 'Hit' 'Flop' 'Flop' 'Flop' 'Flop' 'Hit' 'Hit' 'Hit' 'Hit'\n",
      " 'Flop' 'Hit' 'Flop' 'Flop' 'Flop' 'Hit' 'Flop' 'Hit' 'Flop' 'Hit' 'Flop'\n",
      " 'Flop' 'Flop' 'Hit' 'Hit' 'Flop' 'Hit' 'Hit' 'Hit' 'Flop' 'Hit' 'Hit'\n",
      " 'Flop' 'Hit']\n"
     ]
    }
   ],
   "source": [
    "\n",
    "print(x)\n",
    "print(y)\n"
   ]
  },
  {
   "cell_type": "code",
   "execution_count": 183,
   "metadata": {},
   "outputs": [],
   "source": [
    "from sklearn.preprocessing import LabelEncoder\n",
    "\n",
    "le = LabelEncoder()\n",
    "\n",
    "x[:,0]=le.fit_transform(x[:,0])\n",
    "x[:,1]=le.fit_transform(x[:,1])\n",
    "x[:,19]=le.fit_transform(x[:,19])\n",
    "x[:,20]=le.fit_transform(x[:,20])\n",
    "x[:,21]=le.fit_transform(x[:,21])\n",
    "x[:,22]=le.fit_transform(x[:,22])\n",
    "\n",
    "y = le.fit_transform(y)\n",
    "\n",
    "\n"
   ]
  },
  {
   "cell_type": "code",
   "execution_count": 184,
   "metadata": {},
   "outputs": [
    {
     "name": "stdout",
     "output_type": "stream",
     "text": [
      "[[1 18 1 ... 285 169 129.6]\n",
      " [1 108 1 ... 250 146 104.8]\n",
      " [1 102 1 ... 140 204 115.9]\n",
      " ...\n",
      " [3 127 1 ... 10 121 36.1]\n",
      " [6 60 0 ... 50 157 35.7]\n",
      " [3 28 0 ... 15 162 27.1]]\n"
     ]
    }
   ],
   "source": [
    "print(x)"
   ]
  },
  {
   "cell_type": "code",
   "execution_count": 185,
   "metadata": {},
   "outputs": [],
   "source": [
    "from sklearn.model_selection import train_test_split\n",
    "x_train,x_test,y_train,y_test=train_test_split(x,y,test_size=0.4,random_state=10)"
   ]
  },
  {
   "cell_type": "code",
   "execution_count": 186,
   "metadata": {},
   "outputs": [],
   "source": [
    "# from sklearn.tree import DecisionTreeClassifier\n",
    "# from sklearn.naive_bayes import GaussianNB\n",
    "# from sklearn.ensemble import RandomForestClassifier\n",
    "\n",
    "from sklearn.neighbors import KNeighborsClassifier\n",
    "\n",
    "\n",
    "# Initialize KNeighborsClassifier with weighted distances\n",
    "dt = KNeighborsClassifier(n_neighbors=5, metric='correlation')\n",
    "\n"
   ]
  },
  {
   "cell_type": "code",
   "execution_count": 187,
   "metadata": {},
   "outputs": [],
   "source": [
    "dt.fit(x_train,y_train)\n",
    "y_pred=dt.predict(x_test)\n"
   ]
  },
  {
   "cell_type": "code",
   "execution_count": 188,
   "metadata": {},
   "outputs": [
    {
     "name": "stdout",
     "output_type": "stream",
     "text": [
      "0.8214285714285714\n",
      "[[13  4]\n",
      " [ 6 33]]\n",
      "              precision    recall  f1-score   support\n",
      "\n",
      "           0       0.68      0.76      0.72        17\n",
      "           1       0.89      0.85      0.87        39\n",
      "\n",
      "    accuracy                           0.82        56\n",
      "   macro avg       0.79      0.81      0.80        56\n",
      "weighted avg       0.83      0.82      0.82        56\n",
      "\n",
      "0.8918918918918919\n"
     ]
    }
   ],
   "source": [
    "#performance metrics\n",
    "\n",
    "from sklearn.metrics import accuracy_score,classification_report,confusion_matrix,precision_score\n",
    "print(accuracy_score(y_test,y_pred))\n",
    "print(confusion_matrix(y_test,y_pred))\n",
    "print(classification_report(y_test,y_pred))\n",
    "print(precision_score(y_test,y_pred, average='binary'))"
   ]
  },
  {
   "cell_type": "code",
   "execution_count": 194,
   "metadata": {},
   "outputs": [
    {
     "name": "stdout",
     "output_type": "stream",
     "text": [
      "0.8054298642533937\n"
     ]
    }
   ],
   "source": [
    "from sklearn.metrics import auc,roc_curve,roc_auc_score\n",
    "from sklearn.preprocessing import LabelEncoder\n",
    "\n",
    "\n",
    "# Compute ROC curve\n",
    "fpr, tpr, thresholds = roc_curve(y_test, y_pred)\n",
    "\n",
    "auc_score = roc_auc_score(y_test, y_pred)\n",
    "print(auc_score)\n",
    "\n"
   ]
  },
  {
   "cell_type": "code",
   "execution_count": 195,
   "metadata": {},
   "outputs": [
    {
     "data": {
      "image/png": "[encoded data removed]",
      "text/plain": [
       "<Figure size 800x600 with 1 Axes>"
      ]
     },
     "metadata": {},
     "output_type": "display_data"
    }
   ],
   "source": [
    "import matplotlib.pyplot as plt\n",
    "\n",
    "\n",
    "# Plot ROC curve\n",
    "plt.figure(figsize=(8, 6))\n",
    "plt.plot(fpr, tpr, color='blue', lw=2, label='ROC curve (AUC = %0.2f)' % auc_score)\n",
    "plt.plot([0, 1], [0, 1], color='red', lw=2, linestyle='--')\n",
    "plt.xlim([0.0, 1.0])\n",
    "plt.ylim([0.0, 1.05])\n",
    "plt.xlabel('False Positive Rate')\n",
    "plt.ylabel('True Positive Rate')\n",
    "plt.title('Receiver Operating Characteristic (ROC) Curve')\n",
    "plt.legend(loc='lower right')\n",
    "plt.show()\n"
   ]
  }
 ],
 "metadata": {
  "kernelspec": {
   "display_name": "Python 3",
   "language": "python",
   "name": "python3"
  },
  "language_info": {
   "codemirror_mode": {
    "name": "ipython",
    "version": 3
   },
   "file_extension": ".py",
   "mimetype": "text/x-python",
   "name": "python",
   "nbconvert_exporter": "python",
   "pygments_lexer": "ipython3",
   "version": "3.12.0"
  }
 },
 "nbformat": 4,
 "nbformat_minor": 2
}
