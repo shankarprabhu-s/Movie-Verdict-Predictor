{
 "cells": [
  {
   "cell_type": "code",
   "execution_count": 226,
   "metadata": {},
   "outputs": [
    {
     "name": "stdout",
     "output_type": "stream",
     "text": [
      "                           movie   language               director  Action  \\\n",
      "0                          Jawan      Hindi                  Atlee       1   \n",
      "1                        Pathaan      Hindi        Siddharth Anand       1   \n",
      "2                         Animal      Hindi    Sandeep Reddy Vanga       1   \n",
      "3                        Gadar 2      Hindi            Anil Sharma       1   \n",
      "4    Salaar: Cease Fire - Part 1     Telugu         Prashanth Neel       1   \n",
      "..                           ...        ...                    ...     ...   \n",
      "133                    Runway 34      Hindi             Ajay Devgn       0   \n",
      "134    Vendhu Thanindhathu Kaadu      Tamil  Gautham Vasudev Menon       1   \n",
      "135                 Malikappuram  Malayalam    Vishnu Sasi Shankar       1   \n",
      "136   Rocketry: The Nambi Effect      Tamil               Madhavan       0   \n",
      "137               Jana Gana Mana  Malayalam       Dijo Jose Antony       0   \n",
      "\n",
      "     Drama  Musical  Adventure  Thriller  Crime  Comedy  ...  Animation  \\\n",
      "0        1        1          0         0      0       0  ...          0   \n",
      "1        0        0          1         1      0       0  ...          0   \n",
      "2        1        0          0         0      1       0  ...          0   \n",
      "3        1        0          1         0      0       0  ...          0   \n",
      "4        1        0          0         0      1       0  ...          0   \n",
      "..     ...      ...        ...       ...    ...     ...  ...        ...   \n",
      "133      0        1          0         0      0       0  ...          0   \n",
      "134      0        1          1         0      0       0  ...          0   \n",
      "135      1        1          0         0      0       0  ...          0   \n",
      "136      0        1          0         0      0       0  ...          0   \n",
      "137      0        1          1         0      0       0  ...          0   \n",
      "\n",
      "     Sci-Fi                 cast_1                cast_2               cast_3  \\\n",
      "0         0         Shah Rukh Khan            Nayanthara     Vijay Sethupathi   \n",
      "1         0         Shah Rukh Khan      Deepika Padukone         John Abraham   \n",
      "2         0          Ranbir Kapoor           Anil Kapoor           Bobby Deol   \n",
      "3         0             Sunny Deol         Ameesha Patel       Utkarsh Sharma   \n",
      "4         0                Prabhas  Prithviraj Sukumaran        Shruti Haasan   \n",
      "..      ...                    ...                   ...                  ...   \n",
      "133       0             Ajay Devgn      Amitabh Bachchan    Rakul Preet Singh   \n",
      "134       0  Silambarasan Rajendar         Siddhi Idnani  Radhika Sarathkumar   \n",
      "135       0          Unni Mukundan           Saiju Kurup          Deva Nandha   \n",
      "136       0               Madhavan                Simran         Rajit Kapoor   \n",
      "137       0   Prithviraj Sukumaran    Suraj Venjaramoodu       Mamta Mohandas   \n",
      "\n",
      "                    cast_4  budget  run-time  first_day_collection  verdict  \n",
      "0         Deepika Padukone     285       169                 129.6      Hit  \n",
      "1           Dimple Kapadia     250       146                 104.8      Hit  \n",
      "2        Rashmika Mandanna     140       204                 115.9      Hit  \n",
      "3    Simratt Kaur Randhawa      80       170                  53.7      Hit  \n",
      "4           Jagapathi Babu     250       175                 165.3      Hit  \n",
      "..                     ...     ...       ...                   ...      ...  \n",
      "133             Ajey Nagar     110       145                  33.5     Flop  \n",
      "134              Appukutty      30       177                  38.1      Hit  \n",
      "135               Sreepath      10       121                  36.1      Hit  \n",
      "136       Ravi Raghavendra      50       157                  35.7     Flop  \n",
      "137              Mammootty      15       162                  27.1      Hit  \n",
      "\n",
      "[138 rows x 28 columns]\n"
     ]
    }
   ],
   "source": [
    "import pandas as pd\n",
    "import numpy as np\n",
    "\n",
    "df=pd.read_excel('movie_dataSet_2023.xlsx')\n",
    "print(df)"
   ]
  },
  {
   "cell_type": "code",
   "execution_count": 227,
   "metadata": {},
   "outputs": [],
   "source": [
    "x=df.iloc[:,1:27].values\n",
    "y=df.iloc[:,-1].values\n",
    "\n"
   ]
  },
  {
   "cell_type": "code",
   "execution_count": 228,
   "metadata": {},
   "outputs": [
    {
     "name": "stdout",
     "output_type": "stream",
     "text": [
      "[['Hindi' 'Atlee' 1 ... 285 169 129.6]\n",
      " ['Hindi' 'Siddharth Anand' 1 ... 250 146 104.8]\n",
      " ['Hindi' 'Sandeep Reddy Vanga' 1 ... 140 204 115.9]\n",
      " ...\n",
      " ['Malayalam' 'Vishnu Sasi Shankar' 1 ... 10 121 36.1]\n",
      " ['Tamil' 'Madhavan' 0 ... 50 157 35.7]\n",
      " ['Malayalam' 'Dijo Jose Antony' 0 ... 15 162 27.1]]\n",
      "['Hit' 'Hit' 'Hit' 'Hit' 'Hit' 'Hit' 'Hit' 'Hit' 'Flop' 'Flop' 'Hit' 'Hit'\n",
      " 'Hit' 'Hit' 'Hit' 'Hit' 'Hit' 'Hit' 'Flop' 'Hit' 'Hit' 'Hit' 'Hit' 'Hit'\n",
      " 'Hit' 'Hit' 'Hit' 'Hit' 'Flop' 'Hit' 'Flop' 'Hit' 'Hit' 'Flop' 'Hit'\n",
      " 'Hit' 'Hit' 'Hit' 'Hit' 'Hit' 'Hit' 'Hit' 'Flop' 'Hit' 'Flop' 'Hit' 'Hit'\n",
      " 'Hit' 'Hit' 'Hit' 'Flop' 'Hit' 'Flop' 'Hit' 'Hit' 'Hit' 'Hit' 'Hit'\n",
      " 'Flop' 'Hit' 'Flop' 'Hit' 'Hit' 'Flop' 'Flop' 'Flop' 'Hit' 'Hit' 'Flop'\n",
      " 'Flop' 'Flop' 'Hit' 'Hit' 'Hit' 'Hit' 'Flop' 'Flop' 'Hit' 'Hit' 'Flop'\n",
      " 'Hit' 'Flop' 'Hit' 'Hit' 'Hit' 'Hit' 'Hit' 'Hit' 'Flop' 'Hit' 'Hit' 'Hit'\n",
      " 'Hit' 'Hit' 'Flop' 'Hit' 'Flop' 'Flop' 'Flop' 'Flop' 'Flop' 'Flop' 'Flop'\n",
      " 'Hit' 'Hit' 'Hit' 'Flop' 'Flop' 'Flop' 'Flop' 'Hit' 'Hit' 'Hit' 'Hit'\n",
      " 'Flop' 'Hit' 'Flop' 'Flop' 'Flop' 'Hit' 'Flop' 'Hit' 'Flop' 'Hit' 'Flop'\n",
      " 'Flop' 'Flop' 'Hit' 'Hit' 'Flop' 'Hit' 'Hit' 'Hit' 'Flop' 'Hit' 'Hit'\n",
      " 'Flop' 'Hit']\n"
     ]
    }
   ],
   "source": [
    "\n",
    "print(x)\n",
    "print(y)\n"
   ]
  },
  {
   "cell_type": "code",
   "execution_count": 229,
   "metadata": {},
   "outputs": [],
   "source": [
    "from sklearn.preprocessing import LabelEncoder\n",
    "\n",
    "le = LabelEncoder()\n",
    "\n",
    "x[:,0]=le.fit_transform(x[:,0])\n",
    "x[:,1]=le.fit_transform(x[:,1])\n",
    "x[:,19]=le.fit_transform(x[:,19])\n",
    "x[:,20]=le.fit_transform(x[:,20])\n",
    "x[:,21]=le.fit_transform(x[:,21])\n",
    "x[:,22]=le.fit_transform(x[:,22])\n",
    "\n",
    "y = le.fit_transform(y)\n",
    "\n",
    "\n"
   ]
  },
  {
   "cell_type": "code",
   "execution_count": 230,
   "metadata": {},
   "outputs": [
    {
     "name": "stdout",
     "output_type": "stream",
     "text": [
      "[[1 18 1 ... 285 169 129.6]\n",
      " [1 108 1 ... 250 146 104.8]\n",
      " [1 102 1 ... 140 204 115.9]\n",
      " ...\n",
      " [3 127 1 ... 10 121 36.1]\n",
      " [6 60 0 ... 50 157 35.7]\n",
      " [3 28 0 ... 15 162 27.1]]\n"
     ]
    }
   ],
   "source": [
    "print(x)"
   ]
  },
  {
   "cell_type": "code",
   "execution_count": 231,
   "metadata": {},
   "outputs": [],
   "source": [
    "from sklearn.model_selection import train_test_split\n",
    "x_train,x_test,y_train,y_test=train_test_split(x,y,test_size=0.4,random_state=10)"
   ]
  },
  {
   "cell_type": "code",
   "execution_count": 232,
   "metadata": {},
   "outputs": [],
   "source": [
    "#from sklearn.tree import DecisionTreeClassifier\n",
    "#from sklearn.naive_bayes import GaussianNB\n",
    "from sklearn.ensemble import RandomForestClassifier\n",
    "#from sklearn.linear_model import LogisticRegression\n",
    "\n",
    "from sklearn.neighbors import KNeighborsClassifier\n",
    "\n",
    "dt=RandomForestClassifier(n_estimators=100,criterion='gini',random_state=1)\n",
    "# Initialize KNeighborsClassifier with weighted distances\n",
    "#dt = KNeighborsClassifier(n_neighbors=5, metric='correlation')\n",
    "\n",
    "\n"
   ]
  },
  {
   "cell_type": "code",
   "execution_count": 233,
   "metadata": {},
   "outputs": [],
   "source": [
    "dt.fit(x_train,y_train)\n",
    "y_pred=dt.predict(x_test)\n"
   ]
  },
  {
   "cell_type": "code",
   "execution_count": 234,
   "metadata": {},
   "outputs": [
    {
     "name": "stdout",
     "output_type": "stream",
     "text": [
      "accuracy Score :  0.8\n",
      "[[13  4]\n",
      " [ 7 32]]\n",
      "              precision    recall  f1-score   support\n",
      "\n",
      "           0       0.65      0.76      0.70        17\n",
      "           1       0.89      0.82      0.85        39\n",
      "\n",
      "    accuracy                           0.80        56\n",
      "   macro avg       0.77      0.79      0.78        56\n",
      "weighted avg       0.82      0.80      0.81        56\n",
      "\n",
      "precision Score :  0.89\n",
      "Sensitivity: 0.82\n",
      "Specificity: 0.76\n"
     ]
    }
   ],
   "source": [
    "#performance metrics\n",
    "\n",
    "from sklearn.metrics import accuracy_score,classification_report,confusion_matrix,precision_score\n",
    "\n",
    "cm=confusion_matrix(y_test,y_pred)\n",
    "print(\"accuracy Score : \",round(accuracy_score(y_test,y_pred),2))\n",
    "print(cm)\n",
    "print(classification_report(y_test,y_pred))\n",
    "print(\"precision Score : \",round(precision_score(y_test,y_pred, average='binary'),2))\n",
    "\n",
    "\n",
    "# Flatten the confusion matrix\n",
    "TN, FP, FN, TP = cm.ravel()\n",
    "\n",
    "# Sensitivity (True Positive Rate or Recall)\n",
    "sensitivity = TP / (TP + FN)\n",
    "# Specificity\n",
    "specificity = TN / (TN + FP)\n",
    "\n",
    "print(\"Sensitivity:\", round(sensitivity,2))\n",
    "print(\"Specificity:\", round(specificity,2))\n"
   ]
  },
  {
   "cell_type": "code",
   "execution_count": 235,
   "metadata": {},
   "outputs": [
    {
     "name": "stdout",
     "output_type": "stream",
     "text": [
      "0.79\n"
     ]
    }
   ],
   "source": [
    "from sklearn.metrics import auc,roc_curve,roc_auc_score\n",
    "\n",
    "\n",
    "# Compute ROC curve\n",
    "fpr, tpr, thresholds = roc_curve(y_test, y_pred)\n",
    "\n",
    "auc_score = roc_auc_score(y_test, y_pred)\n",
    "print(round(auc_score,2))\n",
    "\n"
   ]
  },
  {
   "cell_type": "code",
   "execution_count": 236,
   "metadata": {},
   "outputs": [
    {
     "data": {
      "image/png": "[encoded data removed]",
      "text/plain": [
       "<Figure size 700x500 with 1 Axes>"
      ]
     },
     "metadata": {},
     "output_type": "display_data"
    }
   ],
   "source": [
    "import matplotlib.pyplot as plt\n",
    "\n",
    "\n",
    "# Plot ROC curve\n",
    "plt.figure(figsize=(7, 5))\n",
    "plt.plot(fpr, tpr, color='blue', lw=2, label='ROC curve (AUC = %0.2f)' % auc_score)\n",
    "plt.plot([0, 1], [0, 1], color='red', lw=2, linestyle='--')\n",
    "plt.xlim([0.0, 1.0])\n",
    "plt.ylim([0.0, 1.05])\n",
    "plt.xlabel('False Positive Rate')\n",
    "plt.ylabel('True Positive Rate')\n",
    "plt.title('Receiver Operating Characteristic (ROC) Curve')\n",
    "plt.legend(loc='lower right')\n",
    "plt.show()\n"
   ]
  }
 ],
 "metadata": {
  "kernelspec": {
   "display_name": "Python 3",
   "language": "python",
   "name": "python3"
  },
  "language_info": {
   "codemirror_mode": {
    "name": "ipython",
    "version": 3
   },
   "file_extension": ".py",
   "mimetype": "text/x-python",
   "name": "python",
   "nbconvert_exporter": "python",
   "pygments_lexer": "ipython3",
   "version": "3.12.0"
  }
 },
 "nbformat": 4,
 "nbformat_minor": 2
}
