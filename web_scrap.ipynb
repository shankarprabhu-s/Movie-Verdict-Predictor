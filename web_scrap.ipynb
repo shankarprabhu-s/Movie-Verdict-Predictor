{
 "cells": [
  {
   "cell_type": "markdown",
   "metadata": {},
   "source": [
    "\n",
    "Importing the required module\n"
   ]
  },
  {
   "cell_type": "code",
   "execution_count": 22,
   "metadata": {},
   "outputs": [],
   "source": [
    "import requests\n",
    "from bs4 import BeautifulSoup\n",
    "import pandas as pd\n",
    "import re\n"
   ]
  },
  {
   "cell_type": "markdown",
   "metadata": {},
   "source": [
    "url of website , getting response "
   ]
  },
  {
   "cell_type": "code",
   "execution_count": 23,
   "metadata": {},
   "outputs": [],
   "source": [
    "# URL of the website you're scraping\n",
    "# url = 'https://www.imdb.com/list/ls533956378/' #2022\n",
    "\n",
    "url='https://www.imdb.com/list/ls562330283/'  #2023\n",
    "\n",
    "#url = 'https://www.imdb.com/list/ls522454778/' #2024\n",
    "# Send a GET request to the URL\n",
    "response = requests.get(url)\n",
    "\n",
    "# Parse the HTML content\n",
    "soup = BeautifulSoup(response.text, 'html.parser')"
   ]
  },
  {
   "cell_type": "markdown",
   "metadata": {},
   "source": [
    "Scrapping out Movies Name"
   ]
  },
  {
   "cell_type": "code",
   "execution_count": 24,
   "metadata": {},
   "outputs": [
    {
     "name": "stdout",
     "output_type": "stream",
     "text": [
      "['Jawan', 'Pathaan', 'Animal', 'Gadar 2', 'Salaar: Cease Fire - Part 1', 'Leo', 'Jailer', 'Tiger 3', 'Dunki', 'Adipurush', 'Rocky Aur Rani Kii Prem Kahaani', 'Ponniyin Selvan: Part Two', 'The Kerala Story', 'Varisu', 'Waltair Veerayya', 'OMG 2', 'Tu Jhoothi Main Makkaar', 'Thunivu', 'Kisi Ka Bhai Kisi Ki Jaan', '2018', 'Oppenheimer', 'Dream Girl 2', 'Fast X', 'Mission: Impossible - Dead Reckoning Part One', 'Veera Simha Reddy', 'Fukrey 3', 'Sam Bahadur', 'Dasara', 'Satyaprem Ki Katha', 'Vaathi', 'Bro', 'Bhagavanth Kesari', 'Zara Hatke Zara Bachke', 'Bholaa', 'Mark Antony', 'Carry on Jatta 3', 'Baipan Bhari Deva', 'Virupaksha', 'Baby', 'Neru', 'RDX: Robert Dony Xavier', 'Kannur Squad', 'Maaveeran', 'Hi Nanna', 'Kushi', 'Mastaney', 'Maamannan', 'Guardians of the Galaxy Vol. 3', '12th Fail', 'Romancham', 'Jigarthanda DoubleX', 'John Wick: Chapter 4', 'Skanda: The Attacker', 'Kaatera', 'Viduthalai Part 1', 'Ant-Man and the Wasp: Quantumania', 'Barbie', 'The Nun II', 'Chandramukhi 2', 'Spider-Man: Across the Spider-Verse', 'Tiger Nageswara Rao', 'Miss Shetty Mr Polishetty', 'Kranti', 'Bholaa Shankar', 'Shehzada', 'Mission Raniganj: The Great Bharat Rescue', 'Pichaikkaran 2', 'Por Thozhil', 'Kabzaa', 'King of Kotha', 'Pathu Thala', 'Evil Dead Rise', 'The Flash', 'DD Returns', 'Samajavaragamana', 'Spy', 'Japan', 'Balagam', 'Mad', 'Ravanasura', 'Maa Oori Polimera 2', 'Devil', 'Das Ka Dhamki', 'Mangalavaaram', 'Dada']\n"
     ]
    }
   ],
   "source": [
    "\n",
    "# # Find all <a> tags with href containing \"/title/\"\n",
    "# movie_links = soup.find_all('a', href=lambda href: href and \"/title/\" in href)\n",
    "\n",
    "# # Extract movie titles from the parent element of <a> tags\n",
    "# movie_titles = [link.parent.text.strip() for link in movie_links]\n",
    "\n",
    "# print(movie_titles) ##! no proper result\n",
    "\n",
    "# movie_titles = [title.strip() for title in movie_titles if title.strip() and not title.strip().startswith('What to Watch')] ##! stripping out the unnecessary text\n",
    "\n",
    "# movie_titles = [item.split('\\n')[1] for item in movie_titles] ##! stripping out the '\\n' character\n",
    "\n",
    "\n",
    "\n",
    "\n",
    "# Find all <a> tags with href containing \"/title/\"\n",
    "movie_links = soup.find_all('a', href=lambda href: href and \"/title/\" in href)\n",
    "\n",
    "# Extract movie titles\n",
    "movie_titles = []\n",
    "\n",
    "for link in movie_links:\n",
    "    # Extract the title from the link text\n",
    "    title = link.text.strip()\n",
    "    # Append the title to the list if it's not empty\n",
    "    if title:\n",
    "        if title=='Karthikeya':\n",
    "            continue\n",
    "        else:\n",
    "            movie_titles.append(title)\n",
    "\n",
    "movie_titles.pop(0)\n",
    "print(movie_titles)\n",
    "\n",
    "\n",
    "\n",
    "\n"
   ]
  },
  {
   "cell_type": "code",
   "execution_count": 25,
   "metadata": {},
   "outputs": [
    {
     "name": "stdout",
     "output_type": "stream",
     "text": [
      "['Jawan', 'Pathaan', 'Animal', 'Gadar 2', 'Salaar: Cease Fire - Part 1', 'Leo', 'Jailer', 'Tiger 3', 'Dunki', 'Adipurush', 'Rocky Aur Rani Kii Prem Kahaani', 'Ponniyin Selvan: Part Two', 'The Kerala Story', 'Varisu', 'Waltair Veerayya', 'OMG 2', 'Tu Jhoothi Main Makkaar', 'Thunivu', 'Kisi Ka Bhai Kisi Ki Jaan', '2018', 'Oppenheimer', 'Dream Girl 2', 'Fast X', 'Mission: Impossible - Dead Reckoning Part One', 'Veera Simha Reddy', 'Fukrey 3', 'Sam Bahadur', 'Dasara', 'Satyaprem Ki Katha', 'Vaathi', 'Bro', 'Bhagavanth Kesari', 'Zara Hatke Zara Bachke', 'Bholaa', 'Mark Antony', 'Carry on Jatta 3', 'Baipan Bhari Deva', 'Virupaksha', 'Baby', 'Neru', 'RDX: Robert Dony Xavier', 'Kannur Squad', 'Maaveeran', 'Hi Nanna', 'Kushi', 'Mastaney', 'Maamannan', 'Guardians of the Galaxy Vol. 3', '12th Fail', 'Romancham', 'Jigarthanda DoubleX', 'John Wick: Chapter 4', 'Skanda: The Attacker', 'Kaatera', 'Viduthalai Part 1', 'Ant-Man and the Wasp: Quantumania', 'Barbie', 'The Nun II', 'Chandramukhi 2', 'Spider-Man: Across the Spider-Verse', 'Tiger Nageswara Rao', 'Miss Shetty Mr Polishetty', 'Kranti', 'Bholaa Shankar', 'Shehzada', 'Mission Raniganj: The Great Bharat Rescue', 'Pichaikkaran 2', 'Por Thozhil', 'Kabzaa', 'King of Kotha', 'Pathu Thala', 'Evil Dead Rise', 'The Flash', 'DD Returns', 'Samajavaragamana', 'Spy', 'Japan', 'Balagam', 'Mad', 'Ravanasura', 'Maa Oori Polimera 2', 'Devil', 'Das Ka Dhamki', 'Mangalavaaram', 'Dada']\n"
     ]
    },
    {
     "data": {
      "text/plain": [
       "85"
      ]
     },
     "execution_count": 25,
     "metadata": {},
     "output_type": "execute_result"
    }
   ],
   "source": [
    "##! MOVIES NAME\n",
    "print(movie_titles) \n",
    "len(movie_titles)"
   ]
  },
  {
   "cell_type": "markdown",
   "metadata": {},
   "source": [
    "Scrapping out the language of Movie"
   ]
  },
  {
   "cell_type": "code",
   "execution_count": 26,
   "metadata": {},
   "outputs": [
    {
     "data": {
      "text/plain": [
       "''"
      ]
     },
     "execution_count": 26,
     "metadata": {},
     "output_type": "execute_result"
    }
   ],
   "source": [
    "import re\n",
    "\n",
    "# Find all div elements with class 'list-description'\n",
    "divs = soup.find_all('div', class_='list-description')\n",
    "\n",
    "# List to store extracted languages\n",
    "languages = []\n",
    "\n",
    "# Loop through each div element\n",
    "for div in divs:\n",
    "    # Find the paragraph element within the div\n",
    "    paragraph = div.find('p')\n",
    "    if paragraph:\n",
    "        # Get the text content of the paragraph\n",
    "        text = paragraph.get_text()\n",
    "        try:\n",
    "            # Use regular expression to extract the language\n",
    "            match = re.search(r'Language : (\\w+)', text)\n",
    "            if match:\n",
    "                lang = match.group(1)\n",
    "                # Remove the word \"Budget\" from the language string\n",
    "                lang = lang.replace('Budget', '')\n",
    "                # Append the modified language to the list\n",
    "                languages.append(lang.strip())  # Strip any extra spaces\n",
    "            else:\n",
    "                languages.append('')\n",
    "        except:\n",
    "            languages.append('')\n",
    "\n",
    "# Remove the first element from the list (since it's empty)\n",
    "languages.pop(0)\n"
   ]
  },
  {
   "cell_type": "code",
   "execution_count": 27,
   "metadata": {},
   "outputs": [
    {
     "name": "stdout",
     "output_type": "stream",
     "text": [
      "['Hindi', 'Hindi', 'Hindi', 'Hindi', 'Telugu', 'Tamil', 'Tamil', 'Hindi', 'Hindi', 'Telugu', 'Hindi', 'Tamil', 'Hindi', 'Tamil', 'Telugu', 'Hindi', 'Hindi', 'Tamil', 'Hindi', 'Malayalam', 'English', 'Hindi', 'English', 'English', 'Telugu', 'Hindi', 'Hindi', 'Telugu', 'Hindi', 'Tamil', 'Telugu', 'Telugu', 'Hindi', 'Hindi', 'Tamil', 'Punjabi', 'Marathi', 'Telugu', 'Telugu', 'Malayalam', 'Malayalam', 'Malayalam', 'Tamil', 'Telugu', 'Telugu', 'Punjabi', 'Tamil', 'English', 'Hindi', 'Malayalam', 'Tamil', 'English', 'Telugu', 'Kannada', 'Tamil', 'English', 'English', 'English', 'Tamil', 'English', 'Telugu', 'Telugu', 'Kannada', 'Telugu', 'Hindi', 'Hindi', 'Tamil', 'Tamil', 'Kannada', 'Malayalam', 'Tamil', 'English', 'English', 'Tamil', 'Telugu', 'Telugu', 'Tamil', 'Telugu', 'Telugu', 'Telugu', 'Telugu', 'Telugu', 'Telugu', 'Telugu', 'Tamil']\n"
     ]
    }
   ],
   "source": [
    "print(languages)"
   ]
  },
  {
   "cell_type": "markdown",
   "metadata": {},
   "source": [
    "Scrapping out the Director's Name and cast of each Movie"
   ]
  },
  {
   "cell_type": "code",
   "execution_count": 28,
   "metadata": {},
   "outputs": [],
   "source": [
    "\n",
    "movie_info_tags = soup.find_all('p', class_='text-muted text-small')\n",
    "\n",
    "directors_list = []\n",
    "stars_list = []\n",
    "\n",
    "for info_tag in movie_info_tags:\n",
    "    # Extract director\n",
    "    director = info_tag.find('a')\n",
    "    if director:\n",
    "        director = director.text.strip()\n",
    "    else:\n",
    "        director = None\n",
    "    directors_list.append(director)\n",
    "    \n",
    "    # Extract stars\n",
    "    star_tags = info_tag.find_all('a')[1:]\n",
    "    stars = [star.text.strip() for star in star_tags]\n",
    "    stars_list.append(stars)\n",
    "\n",
    "##! directors_list and stars_list contain 'None' \n",
    "\n",
    "## directors\n",
    "directors = []\n",
    "for dir in directors_list:\n",
    "    if dir is not None:\n",
    "        directors.append(dir)\n",
    "\n",
    "## cast \n",
    "cast = []\n",
    "for star in stars_list:\n",
    "    if len(star)!=0:\n",
    "        cast.append(star)\n",
    "\n",
    "\n"
   ]
  },
  {
   "cell_type": "code",
   "execution_count": 29,
   "metadata": {},
   "outputs": [
    {
     "name": "stdout",
     "output_type": "stream",
     "text": [
      "['Atlee', 'Siddharth Anand', 'Sandeep Reddy Vanga', 'Anil Sharma', 'Prashanth Neel', 'Lokesh Kanagaraj', 'Nelson Dilipkumar', 'Maneesh Sharma', 'Rajkumar Hirani', 'Om Raut', 'Karan Johar', 'Mani Ratnam', 'Sudipto Sen', 'Vamshi Paidipally', 'K.S. Ravindra', 'Amit Rai', 'Luv Ranjan', 'H. Vinoth', 'Farhad Samji', 'Jude Anthany Joseph', 'Christopher Nolan', 'Raaj Shaandilyaa', 'Louis Leterrier', 'Christopher McQuarrie', 'Gopichand Malineni', 'Mrighdeep Lamba', 'Meghna Gulzar', 'Srikanth Odela', 'Sameer Vidwans', 'Venky Atluri', 'Samuthirakani', 'Anil Ravipudi', 'Laxman Utekar', 'Ajay Devgn', 'Adhik Ravichandran', 'Smeep Kang', 'Kedar Shinde', 'Karthik Varma Dandu', 'Sai Rajesh Neelam', 'Jeethu Joseph', 'Nahas Hidayath', 'Roby Varghese Raj', 'Madonne Ashwin', 'Shouryuv', 'Shiva Nirvana', 'Sharan Art', 'Mari Selvaraj', 'James Gunn', 'Vidhu Vinod Chopra', 'Jithu Madhavan', 'Karthik Subbaraj', 'Chad Stahelski', 'Boyapati Srinu', 'Tarun Sudhir', 'Vetrimaaran', 'Peyton Reed', 'Greta Gerwig', 'Michael Chaves', 'P. Vasu', 'Joaquim Dos Santos', 'Vamsee', 'Mahesh Babu P.', 'V. Harikrishna', 'Meher Ramesh', 'Rohit Dhawan', 'Tinu Suresh Desai', 'Vijay Antony', 'Vignesh Raja', 'R. Chandru', 'Abhilash Joshiy', 'Obeli N. Krishna', 'Lee Cronin', 'Andy Muschietti', 'S. Prem Anand', 'Ram Abbaraju', 'Garry Bh', 'Raju Murugan', 'Venu Yeldandi', 'Kalyan Shankar', 'Sudheer Varma', 'Anil Viswanath', 'Abhishek Nama', 'Vishwak Sen', 'Ajay Bhupathi', 'Ganesh K. Babu']\n"
     ]
    }
   ],
   "source": [
    "print(directors)"
   ]
  },
  {
   "cell_type": "code",
   "execution_count": 30,
   "metadata": {},
   "outputs": [
    {
     "name": "stdout",
     "output_type": "stream",
     "text": [
      "[['Shah Rukh Khan', 'Nayanthara', 'Vijay Sethupathi', 'Deepika Padukone'], ['Shah Rukh Khan', 'Deepika Padukone', 'John Abraham', 'Dimple Kapadia'], ['Ranbir Kapoor', 'Anil Kapoor', 'Bobby Deol', 'Rashmika Mandanna'], ['Sunny Deol', 'Ameesha Patel', 'Utkarsh Sharma', 'Simratt Kaur Randhawa'], ['Prabhas', 'Prithviraj Sukumaran', 'Shruti Haasan', 'Jagapathi Babu'], ['Joseph Vijay', 'Sanjay Dutt', 'Trisha Krishnan', 'Arjun Sarja'], ['Rajinikanth', 'Mohanlal', 'Shivarajkumar', 'Jackie Shroff'], ['Salman Khan', 'Katrina Kaif', 'Emraan Hashmi', 'Simran'], ['Taapsee Pannu', 'Ryan Cretney', 'Priya Sindher', 'Ketan Desai'], ['Prabhas', 'Kriti Sanon', 'Saif Ali Khan', 'Devdutta Nage'], ['Ranveer Singh', 'Alia Bhatt', 'Dharmendra', 'Shabana Azmi'], ['Sruti Harihara Subramanian', 'Vikram', 'Karthi', 'Jayam Ravi', 'Aishwarya Rai Bachchan'], ['Vipul Amrutlal Shah', 'Adah Sharma', 'Yogita Bihani', 'Sonia Balani', 'Siddhi Idnani'], ['Joseph Vijay', 'Rashmika Mandanna', 'Shaam', 'Prabhu'], ['Shruti Haasan', 'Ravi Teja', 'Chiranjeevi', 'Urvashi Rautela'], ['Akshay Kumar', 'Pankaj Tripathi', 'Yami Gautam', 'Pawan Malhotra'], ['Ranbir Kapoor', 'Kartik Aaryan', 'Dimple Kapadia', 'Shraddha Kapoor'], ['Ajith Kumar', 'Manju Warrier', 'Samuthirakani', 'John Kokken'], ['Salman Khan', 'Pooja Hegde', 'Venkatesh Daggubati', 'Jagapathi Babu'], ['Tovino Thomas', 'Kunchacko Boban', 'Asif Ali', 'Vineeth Sreenivasan'], ['Cillian Murphy', 'Emily Blunt', 'Matt Damon', 'Robert Downey Jr.'], ['Ayushmann Khurrana', 'Ananya Panday', 'Paresh Rawal', 'Annu Kapoor'], ['Justin Lin', 'Vin Diesel', 'Michelle Rodriguez', 'Jason Statham', 'Jordana Brewster'], ['Tom Cruise', 'Hayley Atwell', 'Ving Rhames', 'Simon Pegg'], ['Nandamuri Balakrishna', 'Shruti Haasan', 'Honey Rose', 'Duniya Vijay'], ['Pulkit Samrat', 'Varun Sharma', 'Manjot Singh', 'Richa Chadha'], ['Vicky Kaushal', 'Sanya Malhotra', 'Fatima Sana Shaikh', 'Neeraj Kabi'], ['Nani', 'Keerthy Suresh', 'Shine Tom Chacko', 'Dheekshith Shetty'], ['Kartik Aaryan', 'Kiara Advani', 'Supriya Pathak', 'Gajraj Rao'], ['Dhanush', 'Samyuktha Menon', 'Sai Kumar', 'Tanikella Bharani'], ['Pawan Kalyan', 'Urvashi Rautela', 'Priya Prakash Varrier', 'Vennela Kishore'], ['Nandamuri Balakrishna', 'Arjun Rampal', 'Kajal Aggarwal', 'Sreeleela'], ['Vicky Kaushal', 'Sara Ali Khan', 'Inaamulhaq', 'Sushmita Mukherjee'], ['Tabu', 'Ajay Devgn', 'Amala Paul', 'Makrand Deshpande'], ['Vishal', 'S.J. Suryah', 'Ritu Varma', 'Sunil'], ['Gippy Grewal', 'Sonam Bajwa', 'Binnu Dhillon', 'Kavita Kaushik'], ['Nutan Aasgaonkar', 'Suruchi Adarkar', 'Suchitra Bandekar', 'Varad Chavan'], ['Sai Dharam Tej', 'Samyuktha Menon', 'Sunil', 'Rajeev Kanakala'], ['Anand Deverakonda', 'Vaishnavi Chaitanya', 'Viraj Ashwin', 'Kirrak Seetha'], ['Mohanlal', 'Siddique', 'Santhi Mayadevi', 'Abraham Jacob'], ['Antony Varghese', 'Shane Nigam', 'Neeraj Madhav', 'Babu Antony'], ['Mammootty', 'Kishore Kumar G.', 'Vijayaraghavan', 'Rony David'], ['Sivakarthikeyan', 'Aditi Shankar', 'Mysskin', 'Sunil'], ['Nani', 'Mrunal Thakur', 'Kiara Khanna', 'Nassar'], ['Vijay Deverakonda', 'Samantha Ruth Prabhu', 'Jayaram', 'Lakshmi'], ['Tarsem Jassar', 'Simi Chahal', 'Gurpreet Ghuggi', 'Karamjit Anmol'], ['Vadivelu', 'Fahadh Faasil', 'Keerthy Suresh', 'Udhayanidhi Stalin'], ['Chris Pratt', 'Chukwudi Iwuji', 'Bradley Cooper', 'Pom Klementieff'], ['Vikrant Massey', 'Medha Shankr', 'Anant Joshi', 'Anshuman Pushkar'], ['Soubin Shahir', 'Arjun Ashokan', 'Chemban Vinod Jose', 'Sajin Gopu'], ['Raghava Lawrence', 'S.J. Suryah', 'Nimisha Sajayan', 'Ilavarasu'], ['Keanu Reeves', 'Laurence Fishburne', 'George Georgiou', 'Lance Reddick'], ['Ram Pothineni', 'Sreeleela', 'Saiee Manjrekar', 'Prince Cecil'], ['Darshan Thoogudeep', 'Shruthi', 'Vaijanath Biradar', 'Achyuth Kumar'], ['Soori', 'Vijay Sethupathi', 'Bhavani Sre', 'S. Chandan'], ['Paul Rudd', 'Evangeline Lilly', 'Michael Douglas', 'Michelle Pfeiffer'], ['Margot Robbie', 'Ryan Gosling', 'Issa Rae', 'Kate McKinnon'], ['Taissa Farmiga', 'Jonas Bloquet', 'Storm Reid', 'Anna Popplewell'], ['Mahendran', 'Raghava Lawrence', 'Kangana Ranaut', 'Aathmika', 'Premgi Amaren'], ['Kemp Powers', 'Justin K. Thompson', 'Shameik Moore', 'Hailee Steinfeld', 'Brian Tyree Henry', 'Luna Lauren Velez'], ['Ravi Teja', 'Anupam Kher', 'Gayatri Bhardwaj', 'Nupur Sanon'], ['Anushka Shetty', 'Naveen Polishetty', 'Jayasudha', 'Nassar'], ['Darshan Thoogudeep', 'Rachita Ram', 'V. Ravichandran', 'Sumalatha'], ['Chiranjeevi', 'Tamannaah Bhatia', 'Keerthy Suresh', 'Raghu Babu'], ['Kartik Aaryan', 'Kriti Sanon', 'Paresh Rawal', 'Manisha Koirala'], ['Akshay Kumar', 'Parineeti Chopra', 'Rajesh Sharma', 'Ravi Kishan'], ['Vijay Antony', 'Kavya Thapar', 'Y.G. Mahendran', 'Radha Ravi'], ['T. Senthil Paramasivam', 'R. Sarathkumar', 'Lisha Chinnu', 'Ashok Selvan', 'Nikhila Vimal'], ['Shivu Hiremath', 'Soori', 'Upendra', 'Sudeep', 'Shriya Saran', 'Shivarajkumar'], ['Dulquer Salmaan', 'Soubin Shahir', 'Aishwarya Lekshmi', 'Shabeer Kallarakkal'], ['Silambarasan Rajendar', 'Gautham Karthik', 'Priya Bhavani Shankar', 'Tejeenthan Arunasalam'], ['Mirabai Pease', 'Richard Crouchley', 'Anna-Maree Thomas', 'Lily Sullivan'], ['Ezra Miller', 'Michael Keaton', 'Sasha Calle', 'Michael Shannon'], ['Santhanam', 'Surbhi', 'Fefsi Vijayan', 'Pradeep Singh Rawat'], ['Vennela Kishore', 'Raghu Babu', 'Reba Monica John', 'Sree Vishnu'], ['Nikhil Siddharth', 'Iswarya Menon', 'Aryan Rajesh', 'Abhinav Gomatam'], ['Karthi', 'Sunil', 'K.S. Ravikumar', 'Motta Rajendran'], ['Priyadarshi Pulikonda', 'Kavya Kalyanram', 'Kethiri Sudhakar Reddy', 'Kota Jayaram'], ['Anthony', 'Ravi Anthony', 'Raghu Babu', 'Muralidhar Goud'], ['Ravi Teja', 'Jayaram', 'Sushanth', 'Hyper Aadi'], ['Rajsekhar Aningi', 'Baladitya', 'Kamakshi Bhaskarla', 'Sahithi Dasari'], ['Elnaaz Norouzi', 'Samyuktha Menon', 'Nandamuri Kalyan Ram', 'Ammu Abhirami'], ['Vishwak Sen', 'Nivetha Pethuraj', 'Rao Ramesh', 'Aadi'], ['Payal Rajput', 'Nandita Shwetha', 'Divya Pillai', 'Ajmal Ameer'], ['Kavin', 'Aparna Das', 'Bhagyaraj', 'Aishwariyaa Bhaskaran']]\n"
     ]
    }
   ],
   "source": [
    "print(cast)"
   ]
  },
  {
   "cell_type": "markdown",
   "metadata": {},
   "source": [
    "Scrapping out the Movie Genre"
   ]
  },
  {
   "cell_type": "code",
   "execution_count": 31,
   "metadata": {},
   "outputs": [],
   "source": [
    "movie_genre_tags = soup.find_all('span', class_='genre')\n",
    "\n",
    "genres_list = []\n",
    "\n",
    "for genre_tag in movie_genre_tags:\n",
    "    # Extract genre\n",
    "    genre_text = genre_tag.text.strip()\n",
    "    genres = [genre.strip() for genre in genre_text.split(',')]\n",
    "    genres_list.append(genres)\n",
    "\n"
   ]
  },
  {
   "cell_type": "code",
   "execution_count": 32,
   "metadata": {},
   "outputs": [
    {
     "name": "stdout",
     "output_type": "stream",
     "text": [
      "[['Action', 'Drama', 'Musical'], ['Action', 'Adventure', 'Thriller'], ['Action', 'Crime', 'Drama'], ['Action', 'Adventure', 'Drama'], ['Action', 'Crime', 'Drama'], ['Action', 'Crime', 'Drama'], ['Action', 'Comedy', 'Crime'], ['Action', 'Adventure', 'Thriller'], ['Comedy', 'Drama'], ['Action', 'Adventure', 'Drama'], ['Comedy', 'Drama', 'Family'], ['Action', 'Adventure', 'Drama'], ['Drama'], ['Action', 'Drama'], ['Action', 'Drama'], ['Comedy', 'Drama'], ['Comedy', 'Romance'], ['Action', 'Crime', 'Thriller'], ['Action', 'Comedy', 'Drama'], ['Action', 'Drama', 'Thriller'], ['Biography', 'Drama', 'History'], ['Comedy', 'Drama', 'Romance'], ['Action', 'Adventure', 'Crime'], ['Action', 'Adventure', 'Thriller'], ['Action', 'Drama'], ['Comedy', 'Crime', 'Drama'], ['Biography', 'Drama', 'War'], ['Action', 'Adventure', 'Drama'], ['Comedy', 'Drama', 'Musical'], ['Action', 'Drama'], ['Comedy', 'Drama', 'Family'], ['Action', 'Drama', 'Thriller'], ['Comedy', 'Drama', 'Family'], ['Action', 'Adventure', 'Crime'], ['Action', 'Comedy', 'Drama'], ['Comedy', 'Drama', 'Romance'], ['Comedy', 'Drama', 'Family'], ['Action', 'Drama', 'Horror'], ['Drama', 'Romance'], ['Drama'], ['Action', 'Adventure'], ['Action', 'Crime', 'Drama'], ['Action', 'Comedy', 'Drama'], ['Drama', 'Family', 'Romance'], ['Comedy', 'Drama', 'Romance'], ['Action', 'Drama', 'History'], ['Action', 'Drama', 'Thriller'], ['Action', 'Adventure', 'Comedy'], ['Biography', 'Drama'], ['Comedy', 'Horror'], ['Action', 'Comedy', 'Drama'], ['Action', 'Crime', 'Thriller'], ['Action', 'Drama', 'Romance'], ['Action'], ['Action', 'Crime', 'Drama'], ['Action', 'Adventure', 'Comedy'], ['Adventure', 'Comedy', 'Fantasy'], ['Horror', 'Mystery', 'Thriller'], ['Comedy', 'Drama', 'Horror'], ['Animation', 'Action', 'Adventure'], ['Action', 'Crime', 'Drama'], ['Comedy', 'Drama', 'Romance'], ['Action', 'Drama'], ['Action', 'Crime', 'Drama'], ['Action', 'Comedy', 'Drama'], ['Action', 'Biography', 'Drama'], ['Action', 'Drama', 'Sci-Fi'], ['Action', 'Crime', 'Thriller'], ['Action', 'Crime', 'Thriller'], ['Action', 'Crime', 'Drama'], ['Action', 'Crime', 'Drama'], ['Horror'], ['Action', 'Adventure', 'Fantasy'], ['Comedy', 'Horror'], ['Comedy', 'Drama', 'Family'], ['Action', 'Thriller'], ['Action', 'Comedy', 'Crime'], ['Drama', 'Family'], ['Comedy'], ['Action', 'Crime', 'Drama'], ['Horror'], ['Action', 'Drama', 'Thriller'], ['Action', 'Comedy', 'Drama'], ['Action', 'Horror', 'Thriller'], ['Drama', 'Family', 'Romance']]\n"
     ]
    }
   ],
   "source": [
    "print(genres_list)"
   ]
  },
  {
   "cell_type": "markdown",
   "metadata": {},
   "source": [
    "Scrapping out the Movie Runtime"
   ]
  },
  {
   "cell_type": "code",
   "execution_count": 33,
   "metadata": {},
   "outputs": [],
   "source": [
    "movie_runtime_tags = soup.find_all('span', class_='runtime')\n",
    "\n",
    "runtimes_list = []\n",
    "\n",
    "for runtime_tag in movie_runtime_tags:\n",
    "    # Extract runtime\n",
    "    runtime_text = runtime_tag.text.strip()\n",
    "    runtime = int(runtime_text.split()[0])  # Extracting the number part and converting to integer\n",
    "    runtimes_list.append(runtime)\n",
    "\n"
   ]
  },
  {
   "cell_type": "code",
   "execution_count": 34,
   "metadata": {},
   "outputs": [
    {
     "name": "stdout",
     "output_type": "stream",
     "text": [
      "[169, 146, 204, 170, 175, 164, 168, 155, 160, 179, 168, 164, 138, 169, 155, 156, 150, 145, 145, 150, 180, 134, 141, 163, 170, 147, 150, 156, 146, 139, 134, 164, 132, 144, 150, 136, 137, 145, 175, 150, 151, 161, 163, 155, 163, 150, 157, 150, 147, 130, 172, 169, 167, 183, 150, 124, 114, 110, 172, 140, 172, 149, 163, 159, 142, 134, 148, 147, 134, 174, 151, 96, 144, 124, 140, 135, 156, 131, 127, 141, 125, 144, 140, 149, 133]\n"
     ]
    }
   ],
   "source": [
    "print(runtimes_list)"
   ]
  },
  {
   "cell_type": "markdown",
   "metadata": {},
   "source": [
    "Scrapping out the Budget of the Movie"
   ]
  },
  {
   "cell_type": "code",
   "execution_count": 35,
   "metadata": {},
   "outputs": [
    {
     "data": {
      "text/plain": [
       "''"
      ]
     },
     "execution_count": 35,
     "metadata": {},
     "output_type": "execute_result"
    }
   ],
   "source": [
    "\n",
    "# Find all div elements with class 'list-description'\n",
    "divs = soup.find_all('div', class_='list-description')\n",
    "\n",
    "# List to store extracted budgets\n",
    "budgets = []\n",
    "\n",
    "# Loop through each div element\n",
    "for div in divs:\n",
    "    # Find the paragraph element within the div\n",
    "    paragraph = div.find('p')\n",
    "    if paragraph:\n",
    "        # Get the text content of the paragraph\n",
    "        text = paragraph.get_text()\n",
    "        try:\n",
    "            # Use regular expression to extract the budget\n",
    "            match = re.search(r'Budget : (\\$?)(\\d+\\.\\d+|\\d+)(cr|million)?', text)\n",
    "            if match:\n",
    "                currency_symbol = match.group(1)\n",
    "                amount = float(match.group(2))\n",
    "                unit = match.group(3)\n",
    "                if currency_symbol == '$':\n",
    "                    amount *= 80  # Convert million to crore\n",
    "                elif unit == 'million':\n",
    "                    amount *= 80  # Convert million to crore\n",
    "                # Append the budget to the list\n",
    "                budgets.append(amount)\n",
    "            else:\n",
    "                budgets.append('')\n",
    "        except:\n",
    "            budgets.append('')\n",
    "budgets.pop(0) # Remove the first element from the list (since it's empty)\n",
    "\n",
    "\n"
   ]
  },
  {
   "cell_type": "code",
   "execution_count": 36,
   "metadata": {},
   "outputs": [
    {
     "name": "stdout",
     "output_type": "stream",
     "text": [
      "[285.0, 250.0, 140.0, 80.0, 250.0, 225.0, 200.0, 250.0, 175.0, 375.0, 150.0, 250.0, 25.0, 175.0, 125.0, 95.0, 90.0, 115.0, 125.0, 15.0, 8000.0, 65.0, 27200.0, 23280.0, 85.0, 45.0, 55.0, 55.0, 75.0, 40.0, 125.0, 85.0, 50.0, 115.0, 35.0, 15.0, 5.0, 35.0, 10.0, 15.0, 10.0, 25.0, 55.0, 45.0, 55.0, 20.0, 30.0, 20000.0, 25.0, 3.0, 60.0, 8000.0, 65.0, 45.0, 20.0, 22000.0, 11600.0, 3200.0, 65.0, 8000.0, 50.0, 15.0, 35.0, 100.0, 75.0, 75.0, 25.0, 15.0, 75.0, 40.0, 35.0, 1600.0, 16000.0, 15.0, 5.0, 25.0, 75.0, 5.0, 8.0, 40.0, 7.0, 30.0, 15.0, 15.0, 10.0]\n"
     ]
    }
   ],
   "source": [
    "print(budgets)"
   ]
  },
  {
   "cell_type": "markdown",
   "metadata": {},
   "source": [
    "Scrapping out the First Day Collection"
   ]
  },
  {
   "cell_type": "code",
   "execution_count": 37,
   "metadata": {},
   "outputs": [
    {
     "data": {
      "text/plain": [
       "''"
      ]
     },
     "execution_count": 37,
     "metadata": {},
     "output_type": "execute_result"
    }
   ],
   "source": [
    "import re\n",
    "\n",
    "# Find all div elements with class 'list-description'\n",
    "divs = soup.find_all('div', class_='list-description')\n",
    "\n",
    "# List to store extracted first_day_collection\n",
    "first_day_collection = []\n",
    "\n",
    "# Define regular expressions\n",
    "regex_worldwide = re.compile(r'First Day Collection Worldwide : (\\$?)(\\d+\\.\\d+|\\d+)(cr|million)?')\n",
    "regex_india = re.compile(r'First Day Collection India : (\\$?)(\\d+\\.\\d+|\\d+)(cr|million)?')\n",
    "\n",
    "# Loop through each div element\n",
    "for div in divs:\n",
    "    # Find the paragraph element within the div\n",
    "    paragraph = div.find('p')\n",
    "    if paragraph:\n",
    "        # Get the text content of the paragraph\n",
    "        text = paragraph.get_text()\n",
    "        # Use regular expression to extract the budget for worldwide\n",
    "        match_worldwide = regex_worldwide.search(text)\n",
    "        if match_worldwide:\n",
    "            currency_symbol = match_worldwide.group(1)\n",
    "            amount = float(match_worldwide.group(2))\n",
    "            unit = match_worldwide.group(3)\n",
    "            if currency_symbol == '$':\n",
    "                amount *= 80  # Convert million to crore\n",
    "            elif unit == 'million':\n",
    "                amount *= 80  # Convert million to crore\n",
    "            # Append the budget to the list\n",
    "            first_day_collection.append(amount)\n",
    "        else:\n",
    "            # Use regular expression to extract the budget for India\n",
    "            match_india = regex_india.search(text)\n",
    "            if match_india:\n",
    "                currency_symbol = match_india.group(1)\n",
    "                amount = float(match_india.group(2))\n",
    "                unit = match_india.group(3)\n",
    "                if currency_symbol == '$':\n",
    "                    amount *= 80  # Convert million to crore\n",
    "                elif unit == 'million':\n",
    "                    amount *= 80  # Convert million to crore\n",
    "                # Append the budget to the list\n",
    "                first_day_collection.append(amount)\n",
    "            else:\n",
    "                first_day_collection.append('')\n",
    "\n",
    "first_day_collection.pop(0)"
   ]
  },
  {
   "cell_type": "code",
   "execution_count": 38,
   "metadata": {},
   "outputs": [
    {
     "name": "stdout",
     "output_type": "stream",
     "text": [
      "[129.6, 104.8, 115.9, 53.7, 165.3, 148.5, 91.2, 94.8, 58.2, 136.8, 23.5, 64.5, 9.5, 46.5, 44.6, 12.5, 22.3, 39.6, 26.3, 3.5, 17.3, 12.6, 15.2, 14.5, 47.3, 12.4, 8.4, 38.7, 9.3, 14.8, 48.5, 28.3, 6.5, 16.5, 11.5, 10.2, 1.5, 11.8, 6.5, 5.9, 2.5, 5.2, 11.5, 10.5, 26.8, 7.3, 11.2, 8.6, 1.5, 0.5, 7.3, 10.5, 17.2, 11.7, 4.5, 10.2, 6.2, 3.2, 12.3, 5.2, 9.3, 5.8, 12.8, 28.5, 8.2, 3.8, 8.5, 1.6, 13.5, 16.8, 8.2, 2.3, 5.2, 2.7, 2.3, 10.45, 6.5, 0.45, 1.8, 8.2, 3.2, 4.8, 8.5, 4.2, 2.3]\n"
     ]
    }
   ],
   "source": [
    "print(first_day_collection)"
   ]
  },
  {
   "cell_type": "markdown",
   "metadata": {},
   "source": [
    "Scrapping out the Verdict  {Dependent variable for ml model}"
   ]
  },
  {
   "cell_type": "code",
   "execution_count": 39,
   "metadata": {},
   "outputs": [],
   "source": [
    "\n",
    "# # Find all div elements with class 'list-description'\n",
    "# divs = soup.find_all('div', class_='list-description')\n",
    "\n",
    "# # List to store extracted verdicts\n",
    "# verdicts = []\n",
    "\n",
    "# # Loop through each div element\n",
    "# for div in divs:\n",
    "#     # Find the paragraph element within the div\n",
    "#     paragraph = div.find('p')\n",
    "#     if paragraph:\n",
    "#         # Get the text content of the paragraph\n",
    "#         text = paragraph.get_text()\n",
    "#         try:\n",
    "#             # Use regular expression to extract the verdict\n",
    "#             match = re.search(r'Verdict : (.+)', text)\n",
    "#             if match:\n",
    "#                 verdict = match.group(1)\n",
    "#                 # Split the verdict at the dot and take the first part\n",
    "#                 verdict = verdict.split('•')[0].strip()\n",
    "#                 # Append the verdict to the list\n",
    "#                 verdicts.append(verdict)\n",
    "#             else:\n",
    "#                 verdicts.append('')\n",
    "#         except:\n",
    "#             verdicts.append('')\n",
    "            \n",
    "# # Remove the first element from the list (since it's empty)\n",
    "# verdicts.pop(0)\n",
    "\n",
    "\n"
   ]
  },
  {
   "cell_type": "code",
   "execution_count": 40,
   "metadata": {},
   "outputs": [
    {
     "data": {
      "text/plain": [
       "''"
      ]
     },
     "execution_count": 40,
     "metadata": {},
     "output_type": "execute_result"
    }
   ],
   "source": [
    "# Import the regular expression module\n",
    "import re\n",
    "\n",
    "# Find all div elements with class 'list-description'\n",
    "divs = soup.find_all('div', class_='list-description')\n",
    "\n",
    "# List to store extracted verdicts\n",
    "verdicts = []\n",
    "\n",
    "# Loop through each div element\n",
    "for div in divs:\n",
    "    # Find the paragraph element within the div\n",
    "    paragraph = div.find('p')\n",
    "    if paragraph:\n",
    "        # Get the text content of the paragraph\n",
    "        text = paragraph.get_text()\n",
    "        try:\n",
    "            # Use regular expression to extract the verdict\n",
    "            match = re.search(r'Verdict : (.+)', text)\n",
    "            if match:\n",
    "                verdict = match.group(1).strip()\n",
    "                # Check the extracted verdict and append accordingly\n",
    "                if \"Average\" in verdict or \"Flop\" in verdict or \"Disaster\" in verdict:\n",
    "                    verdicts.append(\"Flop\")\n",
    "               \n",
    "                elif \"Blockbuster\" in verdict or \"All Time Blockbuster\" in verdict or \"Super Hit\" in verdict or \"Hit\" in verdict:\n",
    "                    verdicts.append(\"Hit\")\n",
    "                else:\n",
    "                    verdicts.append(verdict)  # If none of the above, append the original verdict\n",
    "            else:\n",
    "                verdicts.append('')\n",
    "        except:\n",
    "            verdicts.append('')\n",
    "\n",
    "# Remove the first element from the list (since it's empty)\n",
    "verdicts.pop(0)\n"
   ]
  },
  {
   "cell_type": "code",
   "execution_count": 41,
   "metadata": {},
   "outputs": [
    {
     "name": "stdout",
     "output_type": "stream",
     "text": [
      "['Hit', 'Hit', 'Hit', 'Hit', 'Hit', 'Hit', 'Hit', 'Hit', 'Flop', 'Flop', 'Hit', 'Hit', 'Hit', 'Hit', 'Hit', 'Hit', 'Hit', 'Hit', 'Flop', 'Hit', 'Hit', 'Hit', 'Hit', 'Hit', 'Hit', 'Hit', 'Hit', 'Hit', 'Flop', 'Hit', 'Flop', 'Hit', 'Hit', 'Flop', 'Hit', 'Hit', 'Hit', 'Hit', 'Hit', 'Hit', 'Hit', 'Hit', 'Flop', 'Hit', 'Flop', 'Hit', 'Hit', 'Hit', 'Hit', 'Hit', 'Flop', 'Hit', 'Flop', 'Hit', 'Hit', 'Flop', 'Hit', 'Hit', 'Flop', 'Hit', 'Flop', 'Hit', 'Hit', 'Flop', 'Flop', 'Flop', 'Hit', 'Hit', 'Flop', 'Flop', 'Flop', 'Hit', 'Flop', 'Hit', 'Hit', 'Flop', 'Flop', 'Hit', 'Hit', 'Flop', 'Hit', 'Flop', 'Hit', 'Hit', 'Hit']\n"
     ]
    }
   ],
   "source": [
    "print(verdicts)"
   ]
  },
  {
   "cell_type": "code",
   "execution_count": null,
   "metadata": {},
   "outputs": [],
   "source": []
  },
  {
   "cell_type": "markdown",
   "metadata": {},
   "source": [
    "Exporting all the list to Excel"
   ]
  },
  {
   "cell_type": "code",
   "execution_count": 42,
   "metadata": {},
   "outputs": [],
   "source": [
    "import openpyxl\n",
    "\n",
    "# Create a new Excel workbook\n",
    "workbook = openpyxl.Workbook()\n",
    "\n",
    "# Access the active sheet\n",
    "sheet = workbook.active\n",
    "\n",
    "# Your lists of values\n",
    "\n",
    "# Write the column headers\n",
    "sheet.cell(row=1, column=1).value = \"movie\"\n",
    "sheet.cell(row=1, column=2).value = \"language\"\n",
    "sheet.cell(row=1, column=3).value = \"director\"\n",
    "\n",
    "# Define a dictionary to store genres and their corresponding column indexes\n",
    "genre_columns = {}\n",
    "\n",
    "# Write the genre column headers and populate the genre_columns dictionary\n",
    "for index, movie_genres in enumerate(genres_list, start=1):  # Assuming genres_list is a list of lists\n",
    "    for genre in movie_genres:\n",
    "        if genre not in genre_columns:\n",
    "            # Assign a new column index for the genre if it's not already present\n",
    "            genre_columns[genre] = len(genre_columns) + 4\n",
    "            sheet.cell(row=1, column=genre_columns[genre]).value = genre\n",
    "\n",
    "# Write the cast column headers\n",
    "for index, cast_member in enumerate(cast[0], start=len(genre_columns) + 4):  # Assuming cast is a list of lists\n",
    "    sheet.cell(row=1, column=index).value = f\"cast_{index-len(genre_columns)-3}\"\n",
    "\n",
    "sheet.cell(row=1, column=len(genre_columns) + len(cast[0]) + 4).value = \"budget\"\n",
    "sheet.cell(row=1, column=len(genre_columns) + len(cast[0]) + 5).value = \"run-time\"\n",
    "sheet.cell(row=1, column=len(genre_columns) + len(cast[0]) + 6).value = \"first_day_collection\"\n",
    "sheet.cell(row=1, column=len(genre_columns) + len(cast[0]) + 7).value = \"verdict\"\n",
    "\n",
    "# Write the values to the first column\n",
    "for index, value in enumerate(movie_titles, start=2):\n",
    "    sheet.cell(row=index, column=1).value = value\n",
    "\n",
    "# Write the values to the second column\n",
    "for index, value in enumerate(languages, start=2):\n",
    "    sheet.cell(row=index, column=2).value = value\n",
    "\n",
    "# Write the values to the third column\n",
    "for index, value in enumerate(directors, start=2):\n",
    "    sheet.cell(row=index, column=3).value = value\n",
    "# Write the values to the genre columns\n",
    "for index, movie_genres in enumerate(genres_list, start=2):\n",
    "    for genre in genre_columns:\n",
    "        # Write \"1\" in the corresponding genre column for each movie\n",
    "        sheet.cell(row=index, column=genre_columns[genre]).value = 1 if genre in movie_genres else 0\n",
    "\n",
    "\n",
    "# Write the values to the cast columns\n",
    "for index, sublist in enumerate(cast, start=2):\n",
    "    for idx, cast_member in enumerate(sublist, start=len(genre_columns) + 4):\n",
    "        sheet.cell(row=index, column=idx).value = cast_member\n",
    "\n",
    "# Write the values to the budget column\n",
    "for index, value in enumerate(budgets, start=2):\n",
    "    sheet.cell(row=index, column=len(genre_columns) + len(cast[0]) + 4).value = value\n",
    "\n",
    "# Write the values to the run-time column\n",
    "for index, value in enumerate(runtimes_list, start=2):\n",
    "    sheet.cell(row=index, column=len(genre_columns) + len(cast[0]) + 5).value = value\n",
    "\n",
    "# Write the values to the first_day_collection column\n",
    "for index, value in enumerate(first_day_collection, start=2):\n",
    "    sheet.cell(row=index, column=len(genre_columns) + len(cast[0]) + 6).value = value\n",
    "\n",
    "# Write the values to the verdict column\n",
    "for index, value in enumerate(verdicts, start=2):\n",
    "    sheet.cell(row=index, column=len(genre_columns) + len(cast[0]) + 7).value = value\n",
    "\n",
    "# Save the workbook\n",
    "workbook.save(\"2023.xlsx\")\n"
   ]
  },
  {
   "cell_type": "code",
   "execution_count": null,
   "metadata": {},
   "outputs": [],
   "source": []
  }
 ],
 "metadata": {
  "kernelspec": {
   "display_name": "Python 3",
   "language": "python",
   "name": "python3"
  },
  "language_info": {
   "codemirror_mode": {
    "name": "ipython",
    "version": 3
   },
   "file_extension": ".py",
   "mimetype": "text/x-python",
   "name": "python",
   "nbconvert_exporter": "python",
   "pygments_lexer": "ipython3",
   "version": "3.12.0"
  }
 },
 "nbformat": 4,
 "nbformat_minor": 2
}
