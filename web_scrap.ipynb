{
 "cells": [
  {
   "cell_type": "markdown",
   "metadata": {},
   "source": [
    "\n",
    "Importing the required module\n"
   ]
  },
  {
   "cell_type": "code",
   "execution_count": 290,
   "metadata": {},
   "outputs": [],
   "source": [
    "import requests\n",
    "from bs4 import BeautifulSoup\n",
    "import pandas as pd\n",
    "import re\n"
   ]
  },
  {
   "cell_type": "markdown",
   "metadata": {},
   "source": [
    "url of website , getting response "
   ]
  },
  {
   "cell_type": "code",
   "execution_count": 291,
   "metadata": {},
   "outputs": [],
   "source": [
    "# URL of the website you're scraping\n",
    "url = 'https://www.imdb.com/list/ls516348648/'\n",
    "# Send a GET request to the URL\n",
    "response = requests.get(url)\n",
    "\n",
    "# Parse the HTML content\n",
    "soup = BeautifulSoup(response.text, 'html.parser')"
   ]
  },
  {
   "cell_type": "markdown",
   "metadata": {},
   "source": [
    "Scrapping out Movies Name"
   ]
  },
  {
   "cell_type": "code",
   "execution_count": 292,
   "metadata": {},
   "outputs": [
    {
     "name": "stdout",
     "output_type": "stream",
     "text": [
      "['RRR (Rise Roar Revolt)', 'K.G.F: Chapter 2', 'Ponniyin Selvan: I', 'Brahmastra Part One: Shiva', 'Vikram', 'Kantara', 'Drishyam 2', 'The Kashmir Files', 'Bhool Bhulaiyaa 2', 'Beast', 'Valimai', 'Gangubai Kathiawadi', 'Sarkaru Vaari Paata', 'Bheemla Nayak', 'Radhe Shyam', 'James', 'Jug Jugg Jeeyo', 'Vikram Vedha', 'Laal Singh Chaddha', 'VR (Vikrant Rona)', 'Don', 'Godfather', 'Karthikeya 2', 'Karthikeya', 'Thiruchitrambalam', 'Etharkkum Thunindhavan', '777 Charlie', 'Sardar', 'Bhediya', 'Sita Ramam', 'Samrat Prithviraj', 'F3: Fun and Frustration', 'Love Today', 'Bheeshmaparvam', 'Dhamaka', 'Acharya', 'Bachchhan Paandey', 'Cobra', 'Bangarraju', 'Raksha Bandhan', 'Bimbisara', 'Major', 'Shamshera', 'Cirkus', 'Kaathu Vaakula Rendu Kaadhal', 'Vendhu Thanindhathu Kaadu', 'Viruman', 'Liger', 'Ek Villain Returns', 'Hridayam', 'Malikappuram', 'Runway 34', 'Jana Gana Mana', 'Prince', 'Thank God', 'Uunchai', 'Thallumaala', 'Kaduva', 'Rocketry: The Nambi Effect', 'Doctor G', 'Naane Varuvean', 'HIT: The 2nd Case', 'Jaya Jaya Jaya Jaya Hey', 'Ante Sundharaniki', 'The Warriorr', 'Rorschach', 'CBI 5', 'Heropanti 2', 'Nna Thaan Case Kodu', 'Yashoda', 'DJ Tillu', 'Paappan', 'Badhaai Do', 'Jersey', 'Khiladi', 'Attack', 'Kanam', 'Jhund', '18 Pages', 'Aaraattu', 'Yaanai', 'Chup']\n"
     ]
    }
   ],
   "source": [
    "\n",
    "# # Find all <a> tags with href containing \"/title/\"\n",
    "# movie_links = soup.find_all('a', href=lambda href: href and \"/title/\" in href)\n",
    "\n",
    "# # Extract movie titles from the parent element of <a> tags\n",
    "# movie_titles = [link.parent.text.strip() for link in movie_links]\n",
    "\n",
    "# print(movie_titles) ##! no proper result\n",
    "\n",
    "# movie_titles = [title.strip() for title in movie_titles if title.strip() and not title.strip().startswith('What to Watch')] ##! stripping out the unnecessary text\n",
    "\n",
    "# movie_titles = [item.split('\\n')[1] for item in movie_titles] ##! stripping out the '\\n' character\n",
    "\n",
    "\n",
    "\n",
    "\n",
    "# Find all <a> tags with href containing \"/title/\"\n",
    "movie_links = soup.find_all('a', href=lambda href: href and \"/title/\" in href)\n",
    "\n",
    "# Extract movie titles\n",
    "movie_titles = []\n",
    "\n",
    "for link in movie_links:\n",
    "    # Extract the title from the link text\n",
    "    title = link.text.strip()\n",
    "    # Append the title to the list if it's not empty\n",
    "    if title:\n",
    "        movie_titles.append(title)\n",
    "\n",
    "movie_titles.pop(0)\n",
    "print(movie_titles)\n",
    "\n",
    "\n",
    "\n",
    "\n"
   ]
  },
  {
   "cell_type": "code",
   "execution_count": 293,
   "metadata": {},
   "outputs": [
    {
     "name": "stdout",
     "output_type": "stream",
     "text": [
      "['RRR (Rise Roar Revolt)', 'K.G.F: Chapter 2', 'Ponniyin Selvan: I', 'Brahmastra Part One: Shiva', 'Vikram', 'Kantara', 'Drishyam 2', 'The Kashmir Files', 'Bhool Bhulaiyaa 2', 'Beast', 'Valimai', 'Gangubai Kathiawadi', 'Sarkaru Vaari Paata', 'Bheemla Nayak', 'Radhe Shyam', 'James', 'Jug Jugg Jeeyo', 'Vikram Vedha', 'Laal Singh Chaddha', 'VR (Vikrant Rona)', 'Don', 'Godfather', 'Karthikeya 2', 'Karthikeya', 'Thiruchitrambalam', 'Etharkkum Thunindhavan', '777 Charlie', 'Sardar', 'Bhediya', 'Sita Ramam', 'Samrat Prithviraj', 'F3: Fun and Frustration', 'Love Today', 'Bheeshmaparvam', 'Dhamaka', 'Acharya', 'Bachchhan Paandey', 'Cobra', 'Bangarraju', 'Raksha Bandhan', 'Bimbisara', 'Major', 'Shamshera', 'Cirkus', 'Kaathu Vaakula Rendu Kaadhal', 'Vendhu Thanindhathu Kaadu', 'Viruman', 'Liger', 'Ek Villain Returns', 'Hridayam', 'Malikappuram', 'Runway 34', 'Jana Gana Mana', 'Prince', 'Thank God', 'Uunchai', 'Thallumaala', 'Kaduva', 'Rocketry: The Nambi Effect', 'Doctor G', 'Naane Varuvean', 'HIT: The 2nd Case', 'Jaya Jaya Jaya Jaya Hey', 'Ante Sundharaniki', 'The Warriorr', 'Rorschach', 'CBI 5', 'Heropanti 2', 'Nna Thaan Case Kodu', 'Yashoda', 'DJ Tillu', 'Paappan', 'Badhaai Do', 'Jersey', 'Khiladi', 'Attack', 'Kanam', 'Jhund', '18 Pages', 'Aaraattu', 'Yaanai', 'Chup']\n"
     ]
    }
   ],
   "source": [
    "##! MOVIES NAME\n",
    "print(movie_titles) "
   ]
  },
  {
   "cell_type": "markdown",
   "metadata": {},
   "source": [
    "Scrapping out the language of Movie"
   ]
  },
  {
   "cell_type": "code",
   "execution_count": 294,
   "metadata": {},
   "outputs": [
    {
     "data": {
      "text/plain": [
       "''"
      ]
     },
     "execution_count": 294,
     "metadata": {},
     "output_type": "execute_result"
    }
   ],
   "source": [
    "import re\n",
    "\n",
    "# Find all div elements with class 'list-description'\n",
    "divs = soup.find_all('div', class_='list-description')\n",
    "\n",
    "# List to store extracted languages\n",
    "languages = []\n",
    "\n",
    "# Loop through each div element\n",
    "for div in divs:\n",
    "    # Find the paragraph element within the div\n",
    "    paragraph = div.find('p')\n",
    "    if paragraph:\n",
    "        # Get the text content of the paragraph\n",
    "        text = paragraph.get_text()\n",
    "        try:\n",
    "            # Use regular expression to extract the language\n",
    "            match = re.search(r'Language : (\\w+)', text)\n",
    "            if match:\n",
    "                lang = match.group(1)\n",
    "                # Remove the word \"Budget\" from the language string\n",
    "                lang = lang.replace('Budget', '')\n",
    "                # Append the modified language to the list\n",
    "                languages.append(lang.strip())  # Strip any extra spaces\n",
    "            else:\n",
    "                languages.append('')\n",
    "        except:\n",
    "            languages.append('')\n",
    "\n",
    "# Remove the first element from the list (since it's empty)\n",
    "languages.pop(0)\n"
   ]
  },
  {
   "cell_type": "code",
   "execution_count": 295,
   "metadata": {},
   "outputs": [
    {
     "name": "stdout",
     "output_type": "stream",
     "text": [
      "['Telugu', 'Kannada', 'Tamil', 'Hindi', 'Tamil', 'Kannada', 'Hindi', 'Hindi', 'Hindi', 'Tamil', 'Tamil', 'Hindi', 'Telugu', 'Telugu', 'Telugu', 'Kannada', 'Hindi', 'Hindi', 'Hindi', 'Kannada', 'Tamil', 'Telugu', 'Telugu', 'Tamil', 'Tamil', 'Kannada', 'Tamil', 'Hindi', 'Telugu', 'Hindi', 'Telugu', 'Tamil', 'Malayalam', 'Telugu', 'Telugu', 'Hindi', 'Tamil', 'Telugu', 'Hindi', 'Telugu', 'Telugu', 'Hindi', 'Hindi', 'Tamil', 'Tamil', 'Tamil', 'Telugu', 'Hindi', 'Malayalam', 'Malayalam', 'Hindi', 'Malayalam', 'Tamil', 'Hindi', 'Hindi', 'Malayalam', 'Malayalam', 'Tamil', 'Hindi', 'Tamil', 'Telugu', 'Malayalam', 'Telugu', 'Telugu', 'Malayalam', 'Malayalam', 'Hindi', 'Malayalam', 'Telugu', 'Telugu', 'Malayalam', 'Hindi', 'Hindi', 'Telugu', 'Hindi', 'Telugu', 'Hindi', 'Telugu', 'Malayalam', 'Tamil', 'Hindi']\n"
     ]
    }
   ],
   "source": [
    "print(languages)"
   ]
  },
  {
   "cell_type": "markdown",
   "metadata": {},
   "source": [
    "Scrapping out the Director's Name and cast of each Movie"
   ]
  },
  {
   "cell_type": "code",
   "execution_count": 296,
   "metadata": {},
   "outputs": [],
   "source": [
    "\n",
    "movie_info_tags = soup.find_all('p', class_='text-muted text-small')\n",
    "\n",
    "directors_list = []\n",
    "stars_list = []\n",
    "\n",
    "for info_tag in movie_info_tags:\n",
    "    # Extract director\n",
    "    director = info_tag.find('a')\n",
    "    if director:\n",
    "        director = director.text.strip()\n",
    "    else:\n",
    "        director = None\n",
    "    directors_list.append(director)\n",
    "    \n",
    "    # Extract stars\n",
    "    star_tags = info_tag.find_all('a')[1:]\n",
    "    stars = [star.text.strip() for star in star_tags]\n",
    "    stars_list.append(stars)\n",
    "\n",
    "##! directors_list and stars_list contain 'None' \n",
    "\n",
    "## directors\n",
    "directors = []\n",
    "for dir in directors_list:\n",
    "    if dir is not None:\n",
    "        directors.append(dir)\n",
    "\n",
    "## cast \n",
    "cast = []\n",
    "for star in stars_list:\n",
    "    if len(star)!=0:\n",
    "        cast.append(star)\n",
    "\n",
    "\n"
   ]
  },
  {
   "cell_type": "code",
   "execution_count": 297,
   "metadata": {},
   "outputs": [
    {
     "name": "stdout",
     "output_type": "stream",
     "text": [
      "['S.S. Rajamouli', 'Prashanth Neel', 'Mani Ratnam', 'Ayan Mukerji', 'Lokesh Kanagaraj', 'Rishab Shetty', 'Abhishek Pathak', 'Vivek Agnihotri', 'Anees Bazmee', 'Nelson Dilipkumar', 'H. Vinoth', 'Sanjay Leela Bhansali', 'Parasuram', 'Saagar K Chandra', 'K.K. Radhakrishna Kumar', 'Chethan Kumar', 'Raj Mehta', 'Gayatri', 'Advait Chandan', 'Anup Bhandari', 'Cibi Chakravarthi', 'Mohan Raja', 'Chandoo Mondeti', 'Mithran Jawahar', 'Pandiraj', 'Kiranraj K', 'P.S. Mithran', 'Amar Kaushik', 'Hanu Raghavapudi', 'Chandra Prakash Dwivedi', 'Anil Ravipudi', 'Pradeep Ranganathan', 'Amal Neerad', 'Trinadha Rao Nakkina', 'Koratala Siva', 'Farhad Samji', 'R. Ajay Gnanamuthu', 'Kalyan Krishna', 'Aanand L. Rai', 'Mallidi Vasishta', 'Sashi Kiran Tikka', 'Karan Malhotra', 'Rohit Shetty', 'Vignesh Shivan', 'Gautham Vasudev Menon', 'M. Muthaiah', 'Puri Jagannadh', 'Mohit Suri', 'Vineeth Sreenivasan', 'Vishnu Sasi Shankar', 'Ajay Devgn', 'Dijo Jose Antony', 'Anudeep K.V.', 'Indra Kumar', 'Sooraj R. Barjatya', 'Khalid Rahman', 'Shaji Kailas', 'Madhavan', 'Anubhuti Kashyap', 'K. Selvaraghavan', 'Sailesh Kolanu', 'Vipin Das', 'Vivek Athreya', 'N. Linguswamy', 'Nissam Basheer', 'K. Madhu', 'Ahmed Khan', 'Ratheesh Balakrishnan Poduval', 'Harish Narayan', 'Vimal Krishna', 'Joshiy', 'Harshavardhan Kulkarni', 'Gowtam Tinnanuri', 'Ramesh Varma', 'Lakshya Raj Anand', 'Shree Karthick', 'Nagraj Manjule', 'Palnati Surya Pratap', 'B. Unnikrishnan', 'Hari', 'R. Balki']\n"
     ]
    }
   ],
   "source": [
    "print(directors)"
   ]
  },
  {
   "cell_type": "code",
   "execution_count": 298,
   "metadata": {},
   "outputs": [
    {
     "name": "stdout",
     "output_type": "stream",
     "text": [
      "[['N.T. Rama Rao Jr.', 'Ram Charan', 'Ajay Devgn', 'Alia Bhatt'], ['Yash', 'Sanjay Dutt', 'Raveena Tandon', 'Srinidhi Shetty'], ['Sruti Harihara Subramanian', 'Vikram', 'Aishwarya Rai Bachchan', 'Jayam Ravi', 'Karthi'], ['Amitabh Bachchan', 'Ranbir Kapoor', 'Alia Bhatt', 'Nagarjuna Akkineni'], ['Kamal Haasan', 'Vijay Sethupathi', 'Fahadh Faasil', 'Narain'], ['Rishab Shetty', 'Kishore Kumar G.', 'Achyuth Kumar', 'Sapthami Gowda'], ['Ajay Devgn', 'Akshaye Khanna', 'Tabu', 'Shriya Saran'], ['Mithun Chakraborty', 'Anupam Kher', 'Darshan Kumaar', 'Pallavi Joshi'], ['Tabu', 'Kartik Aaryan', 'Kiara Advani', 'Rajpal Naurang Yadav'], ['Joseph Vijay', 'Pooja Hegde', 'K. Selvaraghavan', 'Shine Tom Chacko'], ['Ajith Kumar', 'Huma Qureshi', 'Kartikeya Gummakonda', 'Gurbani'], ['Alia Bhatt', 'Shantanu Maheshwari', 'Vijay Raaz', 'Indira Tiwari'], ['Mahesh Babu', 'Keerthy Suresh', 'Samuthirakani', 'Nadia Moidu'], ['Pawan Kalyan', 'Rana Daggubati', 'Nithya Menen', 'Samyuktha Menon'], ['Prabhas', 'Pooja Hegde', 'Bhagyashree Patwardhan', 'Krishnamraju'], ['Puneeth Rajkumar', 'Priya Anand', 'Meka Srikanth', 'Anu Prabhakar'], ['Varun Dhawan', 'Anil Kapoor', 'Kiara Advani', 'Neetu Singh'], ['Pushkar', 'Saif Ali Khan', 'Hrithik Roshan', 'Radhika Apte', 'Rohit Saraf'], ['Aamir Khan', 'Ahmad Ibn Umar', 'Kareena Kapoor', 'Hafsa Ashraf'], ['Sudeep', 'Nirup Bhandari', 'Neetha Ashok', 'Jacqueline Fernandez'], ['Sivakarthikeyan', 'Priyanka Arulmohan', 'S.J. Suryah', 'Samuthirakani'], ['Chiranjeevi', 'Salman Khan', 'Nayanthara', 'Satyadev Kancharana'], ['Nikhil Siddharth', 'Anupama Parameswaran', 'Srinivasa Reddy', 'Harsha Chemudu'], ['Dhanush', 'Nithya Menen', 'Bharathiraja', 'Prakash Raj'], ['Suriya', 'Priyanka Arulmohan', 'Sathyaraj', 'Saranya Ponvannan'], ['Rakshit Shetty', 'Charlie', 'Sangeetha Sringeri', 'Raj B. Shetty'], ['Karthi', 'Raashi Khanna', 'Mohammad Ali Baig', 'K S Krishnan'], ['Varun Dhawan', 'Kriti Sanon', 'Abhishek Banerjee', 'Deepak Dobriyal'], ['Dulquer Salmaan', 'Mrunal Thakur', 'Rashmika Mandanna', 'Sumanth'], ['Akshay Kumar', 'Sanjay Dutt', 'Manushi Chhillar', 'Manav Vij'], ['Venkatesh Daggubati', 'Varun Tej', 'Tamannaah Bhatia', 'Mehreen Pirzada'], ['Pradeep Ranganathan', 'Ivana', 'Yogi Babu', 'Raveena Ravi'], ['Mammootty', 'Soubin Shahir', 'Sreenath Bhasi', 'Nadia Moidu'], ['Ravi Teja', 'Sreeleela', 'Jayaram', 'Sachin Khedekar'], ['Chiranjeevi', 'Ram Charan', 'Pooja Hegde', 'Sonu Sood'], ['Kriti Sanon', 'Akshay Kumar', 'Jacqueline Fernandez', 'Pankaj Tripathi'], ['Vikram', 'Irfan Pathan', 'Srinidhi Shetty', 'K.S. Ravikumar'], ['Nagarjuna Akkineni', 'Ramya Krishnan', 'Naga Chaitanya Akkineni', 'Krithi Shetty'], ['Akshay Kumar', 'Bhumi Pednekar', 'Sahil Mehta', 'Abhinav Gautam'], ['Nandamuri Kalyan Ram', 'Samyuktha Menon', 'Catherine Tresa', 'Srinivasa Reddy'], ['Adivi Sesh', 'Prakash Raj', 'Revathi', 'Saiee Manjrekar'], ['Ranbir Kapoor', 'Sanjay Dutt', 'Vaani Kapoor', 'Saurabh Shukla'], ['Ranveer Singh', 'Varun Sharma', 'Pooja Hegde', 'Jacqueline Fernandez'], ['Vijay Sethupathi', 'Nayanthara', 'Samantha Ruth Prabhu', 'Prabhu'], ['Silambarasan Rajendar', 'Siddhi Idnani', 'Radhika Sarathkumar', 'Appukutty'], ['Arundhati', 'Manoj K. Bharathi', 'Manoj Bharathiraja', 'Ilavarasu'], ['Mike Tyson', 'Ananya Panday', 'Vijay Deverakonda', 'Annsh Shekhawat'], ['John Abraham', 'Disha Patani', 'Arjun Kapoor', 'Tara Sutaria'], ['Pranav Mohanlal', 'Kalyani Priyadarshan', 'Darshana Rajendran', 'Vijayaraghavan'], ['Unni Mukundan', 'Saiju Kurup', 'Deva Nandha', 'Sreepath'], ['Ajay Devgn', 'Amitabh Bachchan', 'Rakul Preet Singh', 'Ajey Nagar'], ['Prithviraj Sukumaran', 'Suraj Venjaramoodu', 'Mamta Mohandas', 'Mammootty'], ['Premgi Amaren', 'Anandraj', 'Finally Bharath', 'Carl A. Harte'], ['Sidharth Malhotra', 'Ajay Devgn', 'Rakul Preet Singh', 'Mahesh Balraj'], ['Amitabh Bachchan', 'Anupam Kher', 'Boman Irani', 'Parineeti Chopra'], ['Tovino Thomas', 'Kalyani Priyadarshan', 'Shine Tom Chacko', 'Chemban Vinod Jose'], ['Prithviraj Sukumaran', 'Vivek Oberoi', 'Samyuktha Menon', 'Siddique'], ['Madhavan', 'Simran', 'Rajit Kapoor', 'Ravi Raghavendra'], ['Ayushmann Khurrana', 'Rakul Preet Singh', 'Shefali Shah', 'Sheeba Chaddha'], ['Dhanush', 'Prabhu', 'Indhuja Ravichandran', 'Elli Avrram'], ['Adivi Sesh', 'Meenaakshi Chaudhary', 'Rao Ramesh', 'Tanikella Bharani'], ['Darshana Rajendran', 'Basil Joseph', 'Aju Varghese', 'Anand Manmadhan'], ['Nani', 'Nazriya Nazim', 'V.K. Naresh', 'Azhagam Perumal'], ['Ram Pothineni', 'Aadhi', 'Krithi Shetty', 'Akshara Gowda'], ['Mammootty', 'Grace Antony', 'Jagadish', 'Bindu Panikkar'], ['Mammootty', 'Jagathy Sreekumar', 'Mukesh', 'Anoop Menon'], ['Kriti Sanon', 'Mark Rhino Smith', 'Amber Doig-Thorne', 'Tiger Shroff'], ['Kunchacko Boban', 'Gayathrie', 'Rajesh Madhavan', 'Unnimaya Prasad'], ['K. Hari Shankar', 'Samantha Ruth Prabhu', 'Unni Mukundan', 'Varalaxmi Sarathkumar', 'Rao Ramesh'], ['Sidhu Jonnalagadda', 'Neha Shetty', 'Brahmaji', 'Prince Cecil'], ['Suresh Gopi', 'Gokul Suresh', 'Neeta Pillai', 'Nyla Usha'], ['Rajkummar Rao', 'Bhumi Pednekar', 'Chum Darang', 'Sheeba Chaddha'], ['Shahid Kapoor', 'Mrunal Thakur', 'Pankaj Kapur', 'Prit Kamani'], ['Ravi Teja', 'Arjun Sarja', 'Unni Mukundan', 'Meenaakshi Chaudhary'], ['John Abraham', 'Jacqueline Fernandez', 'Rakul Preet Singh', 'Elham Ehsas'], ['Shreekarthick', 'Sathish', 'Ramesh Thilak', 'Hitesh S. Bharadwaaj', 'Jay Adithya'], ['Amitabh Bachchan', 'Ankush Gedam', 'Babu Kshatriya', 'Jerico Robert'], ['Anupama Parameswaran', 'Nikhil Siddharth', 'Raj Tirandasu', 'Ravi Varma'], ['Mohanlal', 'Nedumudi Venu', 'Vijayaraghavan', 'Siddique'], ['Arun Vijay', 'Priya Bhavani Shankar', 'Samuthirakani', 'Radhika Sarathkumar'], ['Dulquer Salmaan', 'Shreya Dhanwanthary', 'Sunny Deol', 'Pooja Bhatt']]\n"
     ]
    }
   ],
   "source": [
    "print(cast)"
   ]
  },
  {
   "cell_type": "markdown",
   "metadata": {},
   "source": [
    "Scrapping out the Movie Genre"
   ]
  },
  {
   "cell_type": "code",
   "execution_count": 299,
   "metadata": {},
   "outputs": [],
   "source": [
    "movie_genre_tags = soup.find_all('span', class_='genre')\n",
    "\n",
    "genres_list = []\n",
    "\n",
    "for genre_tag in movie_genre_tags:\n",
    "    # Extract genre\n",
    "    genre_text = genre_tag.text.strip()\n",
    "    genres = [genre.strip() for genre in genre_text.split(',')]\n",
    "    genres_list.append(genres)\n",
    "\n"
   ]
  },
  {
   "cell_type": "code",
   "execution_count": 300,
   "metadata": {},
   "outputs": [
    {
     "name": "stdout",
     "output_type": "stream",
     "text": [
      "[['Action', 'Adventure', 'Drama'], ['Action', 'Crime', 'Drama'], ['Action', 'Adventure', 'Drama'], ['Action', 'Adventure', 'Fantasy'], ['Action', 'Crime', 'Drama'], ['Action', 'Adventure', 'Drama'], ['Crime', 'Drama', 'Mystery'], ['Drama'], ['Comedy', 'Horror'], ['Action', 'Comedy', 'Crime'], ['Action', 'Crime', 'Thriller'], ['Biography', 'Crime', 'Drama'], ['Action', 'Drama'], ['Action', 'Drama', 'Thriller'], ['Drama', 'Romance'], ['Action', 'Comedy', 'Drama'], ['Comedy', 'Drama', 'Family'], ['Action', 'Crime', 'Drama'], ['Comedy', 'Drama', 'Romance'], ['Action', 'Crime', 'Drama'], ['Comedy', 'Drama', 'Romance'], ['Action', 'Crime', 'Drama'], ['Action', 'Adventure', 'Fantasy'], ['Comedy', 'Drama', 'Musical'], ['Action', 'Crime', 'Drama'], ['Adventure', 'Comedy', 'Drama'], ['Action', 'Drama', 'Thriller'], ['Comedy', 'Fantasy', 'Horror'], ['Action', 'Drama', 'Mystery'], ['Action', 'Drama', 'History'], ['Comedy', 'Family', 'Romance'], ['Comedy', 'Drama', 'Romance'], ['Action', 'Crime', 'Drama'], ['Action', 'Comedy', 'Thriller'], ['Action', 'Drama'], ['Action', 'Comedy', 'Crime'], ['Action', 'Crime', 'Thriller'], ['Drama'], ['Comedy', 'Drama', 'Family'], ['Action', 'Drama', 'Fantasy'], ['Action', 'Biography', 'Drama'], ['Action', 'Adventure', 'Drama'], ['Comedy', 'Drama'], ['Comedy', 'Drama', 'Romance'], ['Action', 'Crime', 'Drama'], ['Action', 'Drama'], ['Action', 'Drama', 'Romance'], ['Action', 'Crime', 'Romance'], ['Drama', 'Musical', 'Romance'], ['Action', 'Adventure', 'Drama'], ['Drama', 'Thriller'], ['Crime', 'Drama', 'Thriller'], ['Action', 'Drama', 'Romance'], ['Comedy', 'Fantasy'], ['Adventure', 'Drama'], ['Action', 'Comedy', 'Drama'], ['Action', 'Drama', 'Thriller'], ['Biography', 'Drama'], ['Comedy', 'Drama'], ['Action', 'Horror', 'Thriller'], ['Action', 'Crime', 'Drama'], ['Comedy', 'Drama', 'Family'], ['Comedy', 'Romance'], ['Action', 'Crime', 'Drama'], ['Action', 'Mystery', 'Thriller'], ['Crime', 'Mystery', 'Thriller'], ['Action', 'Comedy', 'Crime'], ['Comedy', 'Crime', 'Drama'], ['Action', 'Crime', 'Sci-Fi'], ['Action', 'Comedy', 'Crime'], ['Crime', 'Drama', 'Mystery'], ['Comedy', 'Crime', 'Drama'], ['Drama', 'Sport'], ['Action', 'Crime', 'Thriller'], ['Action', 'Sci-Fi', 'Thriller'], ['Drama', 'Sci-Fi', 'Thriller'], ['Biography', 'Drama', 'Sport'], ['Romance'], ['Action', 'Drama'], ['Action', 'Drama', 'Romance'], ['Crime', 'Drama', 'Mystery']]\n"
     ]
    }
   ],
   "source": [
    "print(genres_list)"
   ]
  },
  {
   "cell_type": "markdown",
   "metadata": {},
   "source": [
    "Scrapping out the Movie Runtime"
   ]
  },
  {
   "cell_type": "code",
   "execution_count": 301,
   "metadata": {},
   "outputs": [],
   "source": [
    "movie_runtime_tags = soup.find_all('span', class_='runtime')\n",
    "\n",
    "runtimes_list = []\n",
    "\n",
    "for runtime_tag in movie_runtime_tags:\n",
    "    # Extract runtime\n",
    "    runtime_text = runtime_tag.text.strip()\n",
    "    runtime = int(runtime_text.split()[0])  # Extracting the number part and converting to integer\n",
    "    runtimes_list.append(runtime)\n",
    "\n"
   ]
  },
  {
   "cell_type": "code",
   "execution_count": 302,
   "metadata": {},
   "outputs": [
    {
     "name": "stdout",
     "output_type": "stream",
     "text": [
      "[187, 166, 167, 167, 175, 148, 140, 170, 143, 155, 178, 152, 162, 130, 138, 149, 148, 160, 159, 148, 165, 157, 150, 131, 151, 136, 166, 156, 163, 135, 148, 154, 144, 144, 152, 147, 183, 150, 108, 146, 150, 178, 112, 157, 177, 149, 140, 129, 172, 121, 145, 162, 143, 121, 173, 148, 155, 157, 124, 122, 150, 145, 173, 155, 150, 162, 145, 138, 135, 121, 169, 147, 170, 154, 121, 160, 176, 135, 167, 154, 135]\n"
     ]
    }
   ],
   "source": [
    "print(runtimes_list)"
   ]
  },
  {
   "cell_type": "markdown",
   "metadata": {},
   "source": [
    "Scrapping out the Budget of the Movie"
   ]
  },
  {
   "cell_type": "code",
   "execution_count": 303,
   "metadata": {},
   "outputs": [
    {
     "data": {
      "text/plain": [
       "''"
      ]
     },
     "execution_count": 303,
     "metadata": {},
     "output_type": "execute_result"
    }
   ],
   "source": [
    "\n",
    "# Find all div elements with class 'list-description'\n",
    "divs = soup.find_all('div', class_='list-description')\n",
    "\n",
    "# List to store extracted budgets\n",
    "budgets = []\n",
    "\n",
    "# Loop through each div element\n",
    "for div in divs:\n",
    "    # Find the paragraph element within the div\n",
    "    paragraph = div.find('p')\n",
    "    if paragraph:\n",
    "        # Get the text content of the paragraph\n",
    "        text = paragraph.get_text()\n",
    "        try:\n",
    "            # Use regular expression to extract the budget\n",
    "            match = re.search(r'Budget : (\\$?)(\\d+\\.\\d+|\\d+)(cr|million)?', text)\n",
    "            if match:\n",
    "                currency_symbol = match.group(1)\n",
    "                amount = float(match.group(2))\n",
    "                unit = match.group(3)\n",
    "                if currency_symbol == '$':\n",
    "                    amount *= 80  # Convert million to crore\n",
    "                elif unit == 'million':\n",
    "                    amount *= 80  # Convert million to crore\n",
    "                # Append the budget to the list\n",
    "                budgets.append(amount)\n",
    "            else:\n",
    "                budgets.append('')\n",
    "        except:\n",
    "            budgets.append('')\n",
    "budgets.pop(0) # Remove the first element from the list (since it's empty)\n",
    "\n",
    "\n"
   ]
  },
  {
   "cell_type": "code",
   "execution_count": 304,
   "metadata": {},
   "outputs": [
    {
     "name": "stdout",
     "output_type": "stream",
     "text": [
      "[500.0, 100.0, 250.0, 400.0, 120.0, 16.0, 65.0, 20.0, 80.0, 150.0, 150.0, 125.0, 100.0, 90.0, 300.0, 35.0, 100.0, 150.0, 180.0, 80.0, 40.0, 100.0, 25.0, 30.0, 70.0, 15.0, 40.0, 60.0, 30.0, 220.0, 60.0, 5.0, 18.0, 35.0, 140.0, 160.0, 90.0, 35.0, 70.0, 40.0, 25.0, 150.0, 70.0, 35.0, 25.0, 35.0, 100.0, 75.0, 7.0, 3.5, 80.0, 15.0, 40.0, 70.0, 40.0, 12.0, 18.0, 30.0, 25.0, 40.0, 15.0, 5.5, 30.0, 40.0, 20.0, 15.0, 80.0, 7.0, 25.0, 8.0, 10.0, 30.0, 60.0, 45.0, 60.0, 15.0, 20.0, 15.0, 18.0, 15.0, 15.0]\n"
     ]
    }
   ],
   "source": [
    "print(budgets)"
   ]
  },
  {
   "cell_type": "markdown",
   "metadata": {},
   "source": [
    "Scrapping out the First Day Collection"
   ]
  },
  {
   "cell_type": "code",
   "execution_count": 305,
   "metadata": {},
   "outputs": [
    {
     "data": {
      "text/plain": [
       "''"
      ]
     },
     "execution_count": 305,
     "metadata": {},
     "output_type": "execute_result"
    }
   ],
   "source": [
    "import re\n",
    "\n",
    "# Find all div elements with class 'list-description'\n",
    "divs = soup.find_all('div', class_='list-description')\n",
    "\n",
    "# List to store extracted first_day_collection\n",
    "first_day_collection = []\n",
    "\n",
    "# Define regular expressions\n",
    "regex_worldwide = re.compile(r'First Day Collection Worldwide : (\\$?)(\\d+\\.\\d+|\\d+)(cr|million)?')\n",
    "regex_india = re.compile(r'First Day Collection India : (\\$?)(\\d+\\.\\d+|\\d+)(cr|million)?')\n",
    "\n",
    "# Loop through each div element\n",
    "for div in divs:\n",
    "    # Find the paragraph element within the div\n",
    "    paragraph = div.find('p')\n",
    "    if paragraph:\n",
    "        # Get the text content of the paragraph\n",
    "        text = paragraph.get_text()\n",
    "        # Use regular expression to extract the budget for worldwide\n",
    "        match_worldwide = regex_worldwide.search(text)\n",
    "        if match_worldwide:\n",
    "            currency_symbol = match_worldwide.group(1)\n",
    "            amount = float(match_worldwide.group(2))\n",
    "            unit = match_worldwide.group(3)\n",
    "            if currency_symbol == '$':\n",
    "                amount *= 80  # Convert million to crore\n",
    "            elif unit == 'million':\n",
    "                amount *= 80  # Convert million to crore\n",
    "            # Append the budget to the list\n",
    "            first_day_collection.append(amount)\n",
    "        else:\n",
    "            # Use regular expression to extract the budget for India\n",
    "            match_india = regex_india.search(text)\n",
    "            if match_india:\n",
    "                currency_symbol = match_india.group(1)\n",
    "                amount = float(match_india.group(2))\n",
    "                unit = match_india.group(3)\n",
    "                if currency_symbol == '$':\n",
    "                    amount *= 80  # Convert million to crore\n",
    "                elif unit == 'million':\n",
    "                    amount *= 80  # Convert million to crore\n",
    "                # Append the budget to the list\n",
    "                first_day_collection.append(amount)\n",
    "            else:\n",
    "                first_day_collection.append('')\n",
    "\n",
    "first_day_collection.pop(0)"
   ]
  },
  {
   "cell_type": "code",
   "execution_count": 306,
   "metadata": {},
   "outputs": [
    {
     "name": "stdout",
     "output_type": "stream",
     "text": [
      "[223.0, 159.0, 83.6, 70.0, 62.2, 2.8, 24.0, 4.9, 20.6, 81.4, 50.6, 16.0, 68.5, 57.1, 65.3, 32.0, 11.8, 20.6, 23.8, 25.5, 13.0, 31.9, 8.7, 11.0, 25.4, 9.3, 8.1, 12.1, 5.7, 17.5, 22.2, 2.8, 11.8, 10.1, 52.8, 13.2, 25.0, 17.0, 12.7, 12.0, 13.2, 15.1, 9.3, 8.5, 10.5, 9.8, 24.2, 10.3, 5.4, 0.52, 5.0, 2.9, 8.5, 12.5, 3.1, 7.3, 5.7, 2.5, 5.1, 9.0, 11.5, 1.2, 10.3, 12.5, 5.2, 10.2, 9.0, 2.1, 5.6, 5.3, 2.6, 1.9, 5.5, 6.9, 5.2, 2.8, 2.7, 3.6, 6.9, 2.9, 4.0]\n"
     ]
    }
   ],
   "source": [
    "print(first_day_collection)"
   ]
  },
  {
   "cell_type": "markdown",
   "metadata": {},
   "source": [
    "Scrapping out the Verdict  {Dependent variable for ml model}"
   ]
  },
  {
   "cell_type": "code",
   "execution_count": 307,
   "metadata": {},
   "outputs": [
    {
     "data": {
      "text/plain": [
       "''"
      ]
     },
     "execution_count": 307,
     "metadata": {},
     "output_type": "execute_result"
    }
   ],
   "source": [
    "\n",
    "# Find all div elements with class 'list-description'\n",
    "divs = soup.find_all('div', class_='list-description')\n",
    "\n",
    "# List to store extracted verdicts\n",
    "verdicts = []\n",
    "\n",
    "# Loop through each div element\n",
    "for div in divs:\n",
    "    # Find the paragraph element within the div\n",
    "    paragraph = div.find('p')\n",
    "    if paragraph:\n",
    "        # Get the text content of the paragraph\n",
    "        text = paragraph.get_text()\n",
    "        try:\n",
    "            # Use regular expression to extract the verdict\n",
    "            match = re.search(r'Verdict : (.+)', text)\n",
    "            if match:\n",
    "                verdict = match.group(1)\n",
    "                # Split the verdict at the dot and take the first part\n",
    "                verdict = verdict.split('•')[0].strip()\n",
    "                # Append the verdict to the list\n",
    "                verdicts.append(verdict)\n",
    "            else:\n",
    "                verdicts.append('')\n",
    "        except:\n",
    "            verdicts.append('')\n",
    "            \n",
    "# Remove the first element from the list (since it's empty)\n",
    "verdicts.pop(0)\n",
    "\n",
    "\n"
   ]
  },
  {
   "cell_type": "code",
   "execution_count": 308,
   "metadata": {},
   "outputs": [
    {
     "name": "stdout",
     "output_type": "stream",
     "text": [
      "['Blockbuster', 'All Time Blockbuster', 'Blockbuster', 'Above Average', 'Blockbuster', 'All Time Blockbuster', 'Blockbuster', 'Blockbuster', 'Blockbuster', 'Above Average', 'Above Average', 'Hit', 'Above Average', 'Hit', 'Disaster', 'Blockbuster', 'Average', 'Flop', 'Disaster', 'Super Hit', 'Blockbuster', 'Below Average', 'Blockbuster', 'Blockbuster', 'Above Average', 'Blockbuster', 'Blockbuster', 'Average', 'Blockbuster', 'Disaster', 'Below Average', 'Blockbuster', 'Blockbuster', 'Blockbuster', 'Disaster', 'Disaster', 'Flop', 'Hit', 'Disaster', 'Super Hit', 'Blockbuster', 'Disaster', 'Disaster', 'Super Hit', 'Super Hit', 'Super Hit', 'Disaster', 'Disaster', 'Blockbuster', 'Blockbuster', 'Flop', 'Blockbuster', 'Flop', 'Disaster', 'Average', 'Blockbuster', 'Super Hit', 'Hit', 'Average', 'Flop', 'Super Hit', 'Blockbuster', 'Below Average', 'Flop', 'Super Hit', 'Below Average', 'Disaster', 'Blockbuster', 'Above Average', 'Blockbuster', 'Super Hit', 'Flop', 'Disaster', 'Disaster', 'Disaster', 'Hit', 'Flop', 'Hit', 'Flop', 'Average', 'Average']\n"
     ]
    }
   ],
   "source": [
    "print(verdicts)"
   ]
  },
  {
   "cell_type": "code",
   "execution_count": null,
   "metadata": {},
   "outputs": [],
   "source": []
  },
  {
   "cell_type": "markdown",
   "metadata": {},
   "source": [
    "Exporting all the list to Excel"
   ]
  },
  {
   "cell_type": "code",
   "execution_count": 309,
   "metadata": {},
   "outputs": [],
   "source": [
    "import openpyxl\n",
    "\n",
    "# Create a new Excel workbook\n",
    "workbook = openpyxl.Workbook()\n",
    "\n",
    "# Access the active sheet\n",
    "sheet = workbook.active\n",
    "\n",
    "# Your lists of values\n",
    "\n",
    "# Write the column headers\n",
    "sheet.cell(row=1, column=1).value = \"movie\"\n",
    "sheet.cell(row=1, column=2).value = \"language\"\n",
    "sheet.cell(row=1, column=3).value = \"director\"\n",
    "\n",
    "# Define a dictionary to store genres and their corresponding column indexes\n",
    "genre_columns = {}\n",
    "\n",
    "# Write the genre column headers and populate the genre_columns dictionary\n",
    "for index, movie_genres in enumerate(genres_list, start=1):  # Assuming genres_list is a list of lists\n",
    "    for genre in movie_genres:\n",
    "        if genre not in genre_columns:\n",
    "            # Assign a new column index for the genre if it's not already present\n",
    "            genre_columns[genre] = len(genre_columns) + 4\n",
    "            sheet.cell(row=1, column=genre_columns[genre]).value = genre\n",
    "\n",
    "# Write the cast column headers\n",
    "for index, cast_member in enumerate(cast[0], start=len(genre_columns) + 4):  # Assuming cast is a list of lists\n",
    "    sheet.cell(row=1, column=index).value = f\"cast_{index-len(genre_columns)-3}\"\n",
    "\n",
    "sheet.cell(row=1, column=len(genre_columns) + len(cast[0]) + 4).value = \"budget\"\n",
    "sheet.cell(row=1, column=len(genre_columns) + len(cast[0]) + 5).value = \"run-time\"\n",
    "sheet.cell(row=1, column=len(genre_columns) + len(cast[0]) + 6).value = \"first_day_collection\"\n",
    "sheet.cell(row=1, column=len(genre_columns) + len(cast[0]) + 7).value = \"verdict\"\n",
    "\n",
    "# Write the values to the first column\n",
    "for index, value in enumerate(movie_titles, start=2):\n",
    "    sheet.cell(row=index, column=1).value = value\n",
    "\n",
    "# Write the values to the second column\n",
    "for index, value in enumerate(languages, start=2):\n",
    "    sheet.cell(row=index, column=2).value = value\n",
    "\n",
    "# Write the values to the third column\n",
    "for index, value in enumerate(directors, start=2):\n",
    "    sheet.cell(row=index, column=3).value = value\n",
    "\n",
    "# Write the values to the genre columns\n",
    "for index, movie_genres in enumerate(genres_list, start=2):\n",
    "    for genre in movie_genres:\n",
    "        # Write \"1\" in the corresponding genre column for each movie\n",
    "        sheet.cell(row=index, column=genre_columns[genre]).value = 1\n",
    "\n",
    "# Write the values to the cast columns\n",
    "for index, sublist in enumerate(cast, start=2):\n",
    "    for idx, cast_member in enumerate(sublist, start=len(genre_columns) + 4):\n",
    "        sheet.cell(row=index, column=idx).value = cast_member\n",
    "\n",
    "# Write the values to the budget column\n",
    "for index, value in enumerate(budgets, start=2):\n",
    "    sheet.cell(row=index, column=len(genre_columns) + len(cast[0]) + 4).value = value\n",
    "\n",
    "# Write the values to the run-time column\n",
    "for index, value in enumerate(runtimes_list, start=2):\n",
    "    sheet.cell(row=index, column=len(genre_columns) + len(cast[0]) + 5).value = value\n",
    "\n",
    "# Write the values to the first_day_collection column\n",
    "for index, value in enumerate(first_day_collection, start=2):\n",
    "    sheet.cell(row=index, column=len(genre_columns) + len(cast[0]) + 6).value = value\n",
    "\n",
    "# Write the values to the verdict column\n",
    "for index, value in enumerate(verdicts, start=2):\n",
    "    sheet.cell(row=index, column=len(genre_columns) + len(cast[0]) + 7).value = value\n",
    "\n",
    "# Save the workbook\n",
    "workbook.save(\"movie_dataSet_2022.xlsx\")\n"
   ]
  },
  {
   "cell_type": "code",
   "execution_count": null,
   "metadata": {},
   "outputs": [],
   "source": []
  }
 ],
 "metadata": {
  "kernelspec": {
   "display_name": "Python 3",
   "language": "python",
   "name": "python3"
  },
  "language_info": {
   "codemirror_mode": {
    "name": "ipython",
    "version": 3
   },
   "file_extension": ".py",
   "mimetype": "text/x-python",
   "name": "python",
   "nbconvert_exporter": "python",
   "pygments_lexer": "ipython3",
   "version": "3.12.3"
  }
 },
 "nbformat": 4,
 "nbformat_minor": 2
}
